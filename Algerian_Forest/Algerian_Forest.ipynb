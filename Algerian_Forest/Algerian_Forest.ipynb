{
  "nbformat": 4,
  "nbformat_minor": 0,
  "metadata": {
    "colab": {
      "provenance": []
    },
    "kernelspec": {
      "name": "python3",
      "display_name": "Python 3"
    },
    "language_info": {
      "name": "python"
    }
  },
  "cells": [
    {
      "cell_type": "markdown",
      "source": [
        "# **Algerian_Forest_EDA**"
      ],
      "metadata": {
        "id": "CZ03ule5txpw"
      }
    },
    {
      "cell_type": "markdown",
      "source": [
        "Dataset Link: https://archive.ics.uci.edu/ml/datasets/Algerian+Forest+Fires+Dataset++#"
      ],
      "metadata": {
        "id": "0SewTSP0wajo"
      }
    },
    {
      "cell_type": "code",
      "execution_count": 1,
      "metadata": {
        "id": "fmuZMi2qtw2T"
      },
      "outputs": [],
      "source": [
        "# import required libraries\n",
        "\n",
        "import numpy as np\n",
        "import pandas as pd\n",
        "import matplotlib.pyplot as plt\n",
        "import seaborn as sns\n",
        "\n",
        "from sklearn.preprocessing import StandardScaler\n",
        "from statsmodels.stats.outliers_influence import variance_inflation_factor\n",
        "from sklearn.model_selection import train_test_split\n",
        "\n",
        "from sklearn.linear_model import LogisticRegression\n",
        "from sklearn.tree import DecisionTreeClassifier\n",
        "from sklearn.ensemble import RandomForestClassifier\n",
        "\n",
        "from sklearn.model_selection import GridSearchCV\n",
        "\n",
        "from sklearn import metrics\n",
        "from sklearn.metrics import accuracy_score,confusion_matrix,precision_score,recall_score,f1_score,classification_report\n",
        "\n",
        "import warnings\n",
        "from warnings import filterwarnings\n",
        "filterwarnings(\"ignore\")\n",
        "\n",
        "sns.set()"
      ]
    },
    {
      "cell_type": "code",
      "source": [
        "df = pd.read_csv(\"/content/Algerian_forest_fires_dataset_UPDATE.csv\",skiprows=[0])\n",
        "df.head()"
      ],
      "metadata": {
        "id": "f3f_nToZ-ffB",
        "colab": {
          "base_uri": "https://localhost:8080/",
          "height": 206
        },
        "outputId": "eaef86df-940b-4bf4-90a6-4b919d439361"
      },
      "execution_count": 2,
      "outputs": [
        {
          "output_type": "execute_result",
          "data": {
            "text/plain": [
              "  day month  year Temperature  RH  Ws Rain   FFMC  DMC    DC  ISI  BUI  FWI  \\\n",
              "0  01    06  2012          29  57  18     0  65.7  3.4   7.6  1.3  3.4  0.5   \n",
              "1  02    06  2012          29  61  13   1.3  64.4  4.1   7.6    1  3.9  0.4   \n",
              "2  03    06  2012          26  82  22  13.1  47.1  2.5   7.1  0.3  2.7  0.1   \n",
              "3  04    06  2012          25  89  13   2.5  28.6  1.3   6.9    0  1.7    0   \n",
              "4  05    06  2012          27  77  16     0  64.8    3  14.2  1.2  3.9  0.5   \n",
              "\n",
              "     Classes    \n",
              "0  not fire     \n",
              "1  not fire     \n",
              "2  not fire     \n",
              "3  not fire     \n",
              "4  not fire     "
            ],
            "text/html": [
              "\n",
              "  <div id=\"df-1b07251e-f270-4bf9-88f2-ef1d745c9b96\">\n",
              "    <div class=\"colab-df-container\">\n",
              "      <div>\n",
              "<style scoped>\n",
              "    .dataframe tbody tr th:only-of-type {\n",
              "        vertical-align: middle;\n",
              "    }\n",
              "\n",
              "    .dataframe tbody tr th {\n",
              "        vertical-align: top;\n",
              "    }\n",
              "\n",
              "    .dataframe thead th {\n",
              "        text-align: right;\n",
              "    }\n",
              "</style>\n",
              "<table border=\"1\" class=\"dataframe\">\n",
              "  <thead>\n",
              "    <tr style=\"text-align: right;\">\n",
              "      <th></th>\n",
              "      <th>day</th>\n",
              "      <th>month</th>\n",
              "      <th>year</th>\n",
              "      <th>Temperature</th>\n",
              "      <th>RH</th>\n",
              "      <th>Ws</th>\n",
              "      <th>Rain</th>\n",
              "      <th>FFMC</th>\n",
              "      <th>DMC</th>\n",
              "      <th>DC</th>\n",
              "      <th>ISI</th>\n",
              "      <th>BUI</th>\n",
              "      <th>FWI</th>\n",
              "      <th>Classes</th>\n",
              "    </tr>\n",
              "  </thead>\n",
              "  <tbody>\n",
              "    <tr>\n",
              "      <th>0</th>\n",
              "      <td>01</td>\n",
              "      <td>06</td>\n",
              "      <td>2012</td>\n",
              "      <td>29</td>\n",
              "      <td>57</td>\n",
              "      <td>18</td>\n",
              "      <td>0</td>\n",
              "      <td>65.7</td>\n",
              "      <td>3.4</td>\n",
              "      <td>7.6</td>\n",
              "      <td>1.3</td>\n",
              "      <td>3.4</td>\n",
              "      <td>0.5</td>\n",
              "      <td>not fire</td>\n",
              "    </tr>\n",
              "    <tr>\n",
              "      <th>1</th>\n",
              "      <td>02</td>\n",
              "      <td>06</td>\n",
              "      <td>2012</td>\n",
              "      <td>29</td>\n",
              "      <td>61</td>\n",
              "      <td>13</td>\n",
              "      <td>1.3</td>\n",
              "      <td>64.4</td>\n",
              "      <td>4.1</td>\n",
              "      <td>7.6</td>\n",
              "      <td>1</td>\n",
              "      <td>3.9</td>\n",
              "      <td>0.4</td>\n",
              "      <td>not fire</td>\n",
              "    </tr>\n",
              "    <tr>\n",
              "      <th>2</th>\n",
              "      <td>03</td>\n",
              "      <td>06</td>\n",
              "      <td>2012</td>\n",
              "      <td>26</td>\n",
              "      <td>82</td>\n",
              "      <td>22</td>\n",
              "      <td>13.1</td>\n",
              "      <td>47.1</td>\n",
              "      <td>2.5</td>\n",
              "      <td>7.1</td>\n",
              "      <td>0.3</td>\n",
              "      <td>2.7</td>\n",
              "      <td>0.1</td>\n",
              "      <td>not fire</td>\n",
              "    </tr>\n",
              "    <tr>\n",
              "      <th>3</th>\n",
              "      <td>04</td>\n",
              "      <td>06</td>\n",
              "      <td>2012</td>\n",
              "      <td>25</td>\n",
              "      <td>89</td>\n",
              "      <td>13</td>\n",
              "      <td>2.5</td>\n",
              "      <td>28.6</td>\n",
              "      <td>1.3</td>\n",
              "      <td>6.9</td>\n",
              "      <td>0</td>\n",
              "      <td>1.7</td>\n",
              "      <td>0</td>\n",
              "      <td>not fire</td>\n",
              "    </tr>\n",
              "    <tr>\n",
              "      <th>4</th>\n",
              "      <td>05</td>\n",
              "      <td>06</td>\n",
              "      <td>2012</td>\n",
              "      <td>27</td>\n",
              "      <td>77</td>\n",
              "      <td>16</td>\n",
              "      <td>0</td>\n",
              "      <td>64.8</td>\n",
              "      <td>3</td>\n",
              "      <td>14.2</td>\n",
              "      <td>1.2</td>\n",
              "      <td>3.9</td>\n",
              "      <td>0.5</td>\n",
              "      <td>not fire</td>\n",
              "    </tr>\n",
              "  </tbody>\n",
              "</table>\n",
              "</div>\n",
              "      <button class=\"colab-df-convert\" onclick=\"convertToInteractive('df-1b07251e-f270-4bf9-88f2-ef1d745c9b96')\"\n",
              "              title=\"Convert this dataframe to an interactive table.\"\n",
              "              style=\"display:none;\">\n",
              "        \n",
              "  <svg xmlns=\"http://www.w3.org/2000/svg\" height=\"24px\"viewBox=\"0 0 24 24\"\n",
              "       width=\"24px\">\n",
              "    <path d=\"M0 0h24v24H0V0z\" fill=\"none\"/>\n",
              "    <path d=\"M18.56 5.44l.94 2.06.94-2.06 2.06-.94-2.06-.94-.94-2.06-.94 2.06-2.06.94zm-11 1L8.5 8.5l.94-2.06 2.06-.94-2.06-.94L8.5 2.5l-.94 2.06-2.06.94zm10 10l.94 2.06.94-2.06 2.06-.94-2.06-.94-.94-2.06-.94 2.06-2.06.94z\"/><path d=\"M17.41 7.96l-1.37-1.37c-.4-.4-.92-.59-1.43-.59-.52 0-1.04.2-1.43.59L10.3 9.45l-7.72 7.72c-.78.78-.78 2.05 0 2.83L4 21.41c.39.39.9.59 1.41.59.51 0 1.02-.2 1.41-.59l7.78-7.78 2.81-2.81c.8-.78.8-2.07 0-2.86zM5.41 20L4 18.59l7.72-7.72 1.47 1.35L5.41 20z\"/>\n",
              "  </svg>\n",
              "      </button>\n",
              "      \n",
              "  <style>\n",
              "    .colab-df-container {\n",
              "      display:flex;\n",
              "      flex-wrap:wrap;\n",
              "      gap: 12px;\n",
              "    }\n",
              "\n",
              "    .colab-df-convert {\n",
              "      background-color: #E8F0FE;\n",
              "      border: none;\n",
              "      border-radius: 50%;\n",
              "      cursor: pointer;\n",
              "      display: none;\n",
              "      fill: #1967D2;\n",
              "      height: 32px;\n",
              "      padding: 0 0 0 0;\n",
              "      width: 32px;\n",
              "    }\n",
              "\n",
              "    .colab-df-convert:hover {\n",
              "      background-color: #E2EBFA;\n",
              "      box-shadow: 0px 1px 2px rgba(60, 64, 67, 0.3), 0px 1px 3px 1px rgba(60, 64, 67, 0.15);\n",
              "      fill: #174EA6;\n",
              "    }\n",
              "\n",
              "    [theme=dark] .colab-df-convert {\n",
              "      background-color: #3B4455;\n",
              "      fill: #D2E3FC;\n",
              "    }\n",
              "\n",
              "    [theme=dark] .colab-df-convert:hover {\n",
              "      background-color: #434B5C;\n",
              "      box-shadow: 0px 1px 3px 1px rgba(0, 0, 0, 0.15);\n",
              "      filter: drop-shadow(0px 1px 2px rgba(0, 0, 0, 0.3));\n",
              "      fill: #FFFFFF;\n",
              "    }\n",
              "  </style>\n",
              "\n",
              "      <script>\n",
              "        const buttonEl =\n",
              "          document.querySelector('#df-1b07251e-f270-4bf9-88f2-ef1d745c9b96 button.colab-df-convert');\n",
              "        buttonEl.style.display =\n",
              "          google.colab.kernel.accessAllowed ? 'block' : 'none';\n",
              "\n",
              "        async function convertToInteractive(key) {\n",
              "          const element = document.querySelector('#df-1b07251e-f270-4bf9-88f2-ef1d745c9b96');\n",
              "          const dataTable =\n",
              "            await google.colab.kernel.invokeFunction('convertToInteractive',\n",
              "                                                     [key], {});\n",
              "          if (!dataTable) return;\n",
              "\n",
              "          const docLinkHtml = 'Like what you see? Visit the ' +\n",
              "            '<a target=\"_blank\" href=https://colab.research.google.com/notebooks/data_table.ipynb>data table notebook</a>'\n",
              "            + ' to learn more about interactive tables.';\n",
              "          element.innerHTML = '';\n",
              "          dataTable['output_type'] = 'display_data';\n",
              "          await google.colab.output.renderOutput(dataTable, element);\n",
              "          const docLink = document.createElement('div');\n",
              "          docLink.innerHTML = docLinkHtml;\n",
              "          element.appendChild(docLink);\n",
              "        }\n",
              "      </script>\n",
              "    </div>\n",
              "  </div>\n",
              "  "
            ]
          },
          "metadata": {},
          "execution_count": 2
        }
      ]
    },
    {
      "cell_type": "code",
      "source": [
        "df.shape"
      ],
      "metadata": {
        "id": "xiN0YnZo-fbw",
        "colab": {
          "base_uri": "https://localhost:8080/"
        },
        "outputId": "e2856fa9-ec3c-4526-ca45-c8c0e53d12d1"
      },
      "execution_count": 3,
      "outputs": [
        {
          "output_type": "execute_result",
          "data": {
            "text/plain": [
              "(246, 14)"
            ]
          },
          "metadata": {},
          "execution_count": 3
        }
      ]
    },
    {
      "cell_type": "code",
      "source": [
        "df.describe()"
      ],
      "metadata": {
        "id": "r7EaatIo-fX9",
        "colab": {
          "base_uri": "https://localhost:8080/",
          "height": 175
        },
        "outputId": "b8186f83-163c-4e8e-dca7-40cc4e150522"
      },
      "execution_count": 4,
      "outputs": [
        {
          "output_type": "execute_result",
          "data": {
            "text/plain": [
              "        day month  year Temperature   RH   Ws Rain   FFMC  DMC   DC  ISI  BUI  \\\n",
              "count   246   245   245         245  245  245   245   245  245  245  245  245   \n",
              "unique   33     5     2          20   63   19    40   174  167  199  107  175   \n",
              "top      01    07  2012          35   64   14     0  88.9  7.9    8  1.1    3   \n",
              "freq      8    62   244          29   10   43   133     8    5    5    8    5   \n",
              "\n",
              "        FWI Classes    \n",
              "count   245       244  \n",
              "unique  128         9  \n",
              "top     0.4   fire     \n",
              "freq     12       131  "
            ],
            "text/html": [
              "\n",
              "  <div id=\"df-ee93f6c0-8e5e-4c32-b2a0-b7f4656c1ecd\">\n",
              "    <div class=\"colab-df-container\">\n",
              "      <div>\n",
              "<style scoped>\n",
              "    .dataframe tbody tr th:only-of-type {\n",
              "        vertical-align: middle;\n",
              "    }\n",
              "\n",
              "    .dataframe tbody tr th {\n",
              "        vertical-align: top;\n",
              "    }\n",
              "\n",
              "    .dataframe thead th {\n",
              "        text-align: right;\n",
              "    }\n",
              "</style>\n",
              "<table border=\"1\" class=\"dataframe\">\n",
              "  <thead>\n",
              "    <tr style=\"text-align: right;\">\n",
              "      <th></th>\n",
              "      <th>day</th>\n",
              "      <th>month</th>\n",
              "      <th>year</th>\n",
              "      <th>Temperature</th>\n",
              "      <th>RH</th>\n",
              "      <th>Ws</th>\n",
              "      <th>Rain</th>\n",
              "      <th>FFMC</th>\n",
              "      <th>DMC</th>\n",
              "      <th>DC</th>\n",
              "      <th>ISI</th>\n",
              "      <th>BUI</th>\n",
              "      <th>FWI</th>\n",
              "      <th>Classes</th>\n",
              "    </tr>\n",
              "  </thead>\n",
              "  <tbody>\n",
              "    <tr>\n",
              "      <th>count</th>\n",
              "      <td>246</td>\n",
              "      <td>245</td>\n",
              "      <td>245</td>\n",
              "      <td>245</td>\n",
              "      <td>245</td>\n",
              "      <td>245</td>\n",
              "      <td>245</td>\n",
              "      <td>245</td>\n",
              "      <td>245</td>\n",
              "      <td>245</td>\n",
              "      <td>245</td>\n",
              "      <td>245</td>\n",
              "      <td>245</td>\n",
              "      <td>244</td>\n",
              "    </tr>\n",
              "    <tr>\n",
              "      <th>unique</th>\n",
              "      <td>33</td>\n",
              "      <td>5</td>\n",
              "      <td>2</td>\n",
              "      <td>20</td>\n",
              "      <td>63</td>\n",
              "      <td>19</td>\n",
              "      <td>40</td>\n",
              "      <td>174</td>\n",
              "      <td>167</td>\n",
              "      <td>199</td>\n",
              "      <td>107</td>\n",
              "      <td>175</td>\n",
              "      <td>128</td>\n",
              "      <td>9</td>\n",
              "    </tr>\n",
              "    <tr>\n",
              "      <th>top</th>\n",
              "      <td>01</td>\n",
              "      <td>07</td>\n",
              "      <td>2012</td>\n",
              "      <td>35</td>\n",
              "      <td>64</td>\n",
              "      <td>14</td>\n",
              "      <td>0</td>\n",
              "      <td>88.9</td>\n",
              "      <td>7.9</td>\n",
              "      <td>8</td>\n",
              "      <td>1.1</td>\n",
              "      <td>3</td>\n",
              "      <td>0.4</td>\n",
              "      <td>fire</td>\n",
              "    </tr>\n",
              "    <tr>\n",
              "      <th>freq</th>\n",
              "      <td>8</td>\n",
              "      <td>62</td>\n",
              "      <td>244</td>\n",
              "      <td>29</td>\n",
              "      <td>10</td>\n",
              "      <td>43</td>\n",
              "      <td>133</td>\n",
              "      <td>8</td>\n",
              "      <td>5</td>\n",
              "      <td>5</td>\n",
              "      <td>8</td>\n",
              "      <td>5</td>\n",
              "      <td>12</td>\n",
              "      <td>131</td>\n",
              "    </tr>\n",
              "  </tbody>\n",
              "</table>\n",
              "</div>\n",
              "      <button class=\"colab-df-convert\" onclick=\"convertToInteractive('df-ee93f6c0-8e5e-4c32-b2a0-b7f4656c1ecd')\"\n",
              "              title=\"Convert this dataframe to an interactive table.\"\n",
              "              style=\"display:none;\">\n",
              "        \n",
              "  <svg xmlns=\"http://www.w3.org/2000/svg\" height=\"24px\"viewBox=\"0 0 24 24\"\n",
              "       width=\"24px\">\n",
              "    <path d=\"M0 0h24v24H0V0z\" fill=\"none\"/>\n",
              "    <path d=\"M18.56 5.44l.94 2.06.94-2.06 2.06-.94-2.06-.94-.94-2.06-.94 2.06-2.06.94zm-11 1L8.5 8.5l.94-2.06 2.06-.94-2.06-.94L8.5 2.5l-.94 2.06-2.06.94zm10 10l.94 2.06.94-2.06 2.06-.94-2.06-.94-.94-2.06-.94 2.06-2.06.94z\"/><path d=\"M17.41 7.96l-1.37-1.37c-.4-.4-.92-.59-1.43-.59-.52 0-1.04.2-1.43.59L10.3 9.45l-7.72 7.72c-.78.78-.78 2.05 0 2.83L4 21.41c.39.39.9.59 1.41.59.51 0 1.02-.2 1.41-.59l7.78-7.78 2.81-2.81c.8-.78.8-2.07 0-2.86zM5.41 20L4 18.59l7.72-7.72 1.47 1.35L5.41 20z\"/>\n",
              "  </svg>\n",
              "      </button>\n",
              "      \n",
              "  <style>\n",
              "    .colab-df-container {\n",
              "      display:flex;\n",
              "      flex-wrap:wrap;\n",
              "      gap: 12px;\n",
              "    }\n",
              "\n",
              "    .colab-df-convert {\n",
              "      background-color: #E8F0FE;\n",
              "      border: none;\n",
              "      border-radius: 50%;\n",
              "      cursor: pointer;\n",
              "      display: none;\n",
              "      fill: #1967D2;\n",
              "      height: 32px;\n",
              "      padding: 0 0 0 0;\n",
              "      width: 32px;\n",
              "    }\n",
              "\n",
              "    .colab-df-convert:hover {\n",
              "      background-color: #E2EBFA;\n",
              "      box-shadow: 0px 1px 2px rgba(60, 64, 67, 0.3), 0px 1px 3px 1px rgba(60, 64, 67, 0.15);\n",
              "      fill: #174EA6;\n",
              "    }\n",
              "\n",
              "    [theme=dark] .colab-df-convert {\n",
              "      background-color: #3B4455;\n",
              "      fill: #D2E3FC;\n",
              "    }\n",
              "\n",
              "    [theme=dark] .colab-df-convert:hover {\n",
              "      background-color: #434B5C;\n",
              "      box-shadow: 0px 1px 3px 1px rgba(0, 0, 0, 0.15);\n",
              "      filter: drop-shadow(0px 1px 2px rgba(0, 0, 0, 0.3));\n",
              "      fill: #FFFFFF;\n",
              "    }\n",
              "  </style>\n",
              "\n",
              "      <script>\n",
              "        const buttonEl =\n",
              "          document.querySelector('#df-ee93f6c0-8e5e-4c32-b2a0-b7f4656c1ecd button.colab-df-convert');\n",
              "        buttonEl.style.display =\n",
              "          google.colab.kernel.accessAllowed ? 'block' : 'none';\n",
              "\n",
              "        async function convertToInteractive(key) {\n",
              "          const element = document.querySelector('#df-ee93f6c0-8e5e-4c32-b2a0-b7f4656c1ecd');\n",
              "          const dataTable =\n",
              "            await google.colab.kernel.invokeFunction('convertToInteractive',\n",
              "                                                     [key], {});\n",
              "          if (!dataTable) return;\n",
              "\n",
              "          const docLinkHtml = 'Like what you see? Visit the ' +\n",
              "            '<a target=\"_blank\" href=https://colab.research.google.com/notebooks/data_table.ipynb>data table notebook</a>'\n",
              "            + ' to learn more about interactive tables.';\n",
              "          element.innerHTML = '';\n",
              "          dataTable['output_type'] = 'display_data';\n",
              "          await google.colab.output.renderOutput(dataTable, element);\n",
              "          const docLink = document.createElement('div');\n",
              "          docLink.innerHTML = docLinkHtml;\n",
              "          element.appendChild(docLink);\n",
              "        }\n",
              "      </script>\n",
              "    </div>\n",
              "  </div>\n",
              "  "
            ]
          },
          "metadata": {},
          "execution_count": 4
        }
      ]
    },
    {
      "cell_type": "code",
      "source": [
        "df.info()"
      ],
      "metadata": {
        "id": "DW-r9hJ9-fSw",
        "colab": {
          "base_uri": "https://localhost:8080/"
        },
        "outputId": "d1345daf-86f8-4732-ff7d-5be59ff7f821"
      },
      "execution_count": 5,
      "outputs": [
        {
          "output_type": "stream",
          "name": "stdout",
          "text": [
            "<class 'pandas.core.frame.DataFrame'>\n",
            "RangeIndex: 246 entries, 0 to 245\n",
            "Data columns (total 14 columns):\n",
            " #   Column       Non-Null Count  Dtype \n",
            "---  ------       --------------  ----- \n",
            " 0   day          246 non-null    object\n",
            " 1   month        245 non-null    object\n",
            " 2   year         245 non-null    object\n",
            " 3   Temperature  245 non-null    object\n",
            " 4    RH          245 non-null    object\n",
            " 5    Ws          245 non-null    object\n",
            " 6   Rain         245 non-null    object\n",
            " 7   FFMC         245 non-null    object\n",
            " 8   DMC          245 non-null    object\n",
            " 9   DC           245 non-null    object\n",
            " 10  ISI          245 non-null    object\n",
            " 11  BUI          245 non-null    object\n",
            " 12  FWI          245 non-null    object\n",
            " 13  Classes      244 non-null    object\n",
            "dtypes: object(14)\n",
            "memory usage: 27.0+ KB\n"
          ]
        }
      ]
    },
    {
      "cell_type": "code",
      "source": [
        "df.isnull().sum()"
      ],
      "metadata": {
        "id": "9KxcZKKd-fOE",
        "colab": {
          "base_uri": "https://localhost:8080/"
        },
        "outputId": "ad5c1a14-6861-4a79-8e6b-4c469e20f54d"
      },
      "execution_count": 6,
      "outputs": [
        {
          "output_type": "execute_result",
          "data": {
            "text/plain": [
              "day            0\n",
              "month          1\n",
              "year           1\n",
              "Temperature    1\n",
              " RH            1\n",
              " Ws            1\n",
              "Rain           1\n",
              "FFMC           1\n",
              "DMC            1\n",
              "DC             1\n",
              "ISI            1\n",
              "BUI            1\n",
              "FWI            1\n",
              "Classes        2\n",
              "dtype: int64"
            ]
          },
          "metadata": {},
          "execution_count": 6
        }
      ]
    },
    {
      "cell_type": "code",
      "source": [
        "df.columns"
      ],
      "metadata": {
        "colab": {
          "base_uri": "https://localhost:8080/"
        },
        "id": "nn7FABEH1ArY",
        "outputId": "3d598b53-00db-4718-e03b-1abfab951a2a"
      },
      "execution_count": 7,
      "outputs": [
        {
          "output_type": "execute_result",
          "data": {
            "text/plain": [
              "Index(['day', 'month', 'year', 'Temperature', ' RH', ' Ws', 'Rain ', 'FFMC',\n",
              "       'DMC', 'DC', 'ISI', 'BUI', 'FWI', 'Classes  '],\n",
              "      dtype='object')"
            ]
          },
          "metadata": {},
          "execution_count": 7
        }
      ]
    },
    {
      "cell_type": "markdown",
      "source": [
        "**Stripping unnecessary space from column name**"
      ],
      "metadata": {
        "id": "WBW7DpzG1FtA"
      }
    },
    {
      "cell_type": "code",
      "source": [
        "df.columns = df.columns.str.strip()"
      ],
      "metadata": {
        "id": "Vd0lHlpT1ClA"
      },
      "execution_count": 8,
      "outputs": []
    },
    {
      "cell_type": "code",
      "source": [
        "df.columns"
      ],
      "metadata": {
        "colab": {
          "base_uri": "https://localhost:8080/"
        },
        "id": "JniDOU3j1M2v",
        "outputId": "e8a2a405-0f3a-46a1-96bf-6cb020c5d8f6"
      },
      "execution_count": 9,
      "outputs": [
        {
          "output_type": "execute_result",
          "data": {
            "text/plain": [
              "Index(['day', 'month', 'year', 'Temperature', 'RH', 'Ws', 'Rain', 'FFMC',\n",
              "       'DMC', 'DC', 'ISI', 'BUI', 'FWI', 'Classes'],\n",
              "      dtype='object')"
            ]
          },
          "metadata": {},
          "execution_count": 9
        }
      ]
    },
    {
      "cell_type": "code",
      "source": [
        "backup = df.copy()"
      ],
      "metadata": {
        "id": "-9dJhl0yCJKB"
      },
      "execution_count": 10,
      "outputs": []
    },
    {
      "cell_type": "markdown",
      "source": [
        "## **Data Preprocessing**"
      ],
      "metadata": {
        "id": "P_EC48-cBqy8"
      }
    },
    {
      "cell_type": "markdown",
      "source": [
        "### **Handling Each and Every Feature Individual**"
      ],
      "metadata": {
        "id": "3Het6hVC7yvg"
      }
    },
    {
      "cell_type": "markdown",
      "source": [
        "**1. Handling Day Feature**"
      ],
      "metadata": {
        "id": "JyYToxll72zC"
      }
    },
    {
      "cell_type": "code",
      "source": [
        "df[\"day\"].unique()"
      ],
      "metadata": {
        "colab": {
          "base_uri": "https://localhost:8080/"
        },
        "id": "zqA73pxY5rRW",
        "outputId": "5e6bacbe-b8d8-4458-cf38-2f8a7be029f2"
      },
      "execution_count": 11,
      "outputs": [
        {
          "output_type": "execute_result",
          "data": {
            "text/plain": [
              "array(['01', '02', '03', '04', '05', '06', '07', '08', '09', '10', '11',\n",
              "       '12', '13', '14', '15', '16', '17', '18', '19', '20', '21', '22',\n",
              "       '23', '24', '25', '26', '27', '28', '29', '30', '31',\n",
              "       'Sidi-Bel Abbes Region Dataset', 'day'], dtype=object)"
            ]
          },
          "metadata": {},
          "execution_count": 11
        }
      ]
    },
    {
      "cell_type": "code",
      "source": [
        "# displaying Only Numeric data\n",
        "df = df[df[\"day\"].str.isnumeric()]"
      ],
      "metadata": {
        "id": "CxS0_y-37SMq"
      },
      "execution_count": 12,
      "outputs": []
    },
    {
      "cell_type": "code",
      "source": [
        "df[\"day\"] = df[\"day\"].astype(int)"
      ],
      "metadata": {
        "id": "uUR5XdTin16F"
      },
      "execution_count": 13,
      "outputs": []
    },
    {
      "cell_type": "code",
      "source": [
        "df.info()"
      ],
      "metadata": {
        "colab": {
          "base_uri": "https://localhost:8080/"
        },
        "id": "1Xa4KZMPtCQL",
        "outputId": "699e4057-b6a6-439e-f083-3ce400ebbaf2"
      },
      "execution_count": 14,
      "outputs": [
        {
          "output_type": "stream",
          "name": "stdout",
          "text": [
            "<class 'pandas.core.frame.DataFrame'>\n",
            "Int64Index: 244 entries, 0 to 245\n",
            "Data columns (total 14 columns):\n",
            " #   Column       Non-Null Count  Dtype \n",
            "---  ------       --------------  ----- \n",
            " 0   day          244 non-null    int64 \n",
            " 1   month        244 non-null    object\n",
            " 2   year         244 non-null    object\n",
            " 3   Temperature  244 non-null    object\n",
            " 4   RH           244 non-null    object\n",
            " 5   Ws           244 non-null    object\n",
            " 6   Rain         244 non-null    object\n",
            " 7   FFMC         244 non-null    object\n",
            " 8   DMC          244 non-null    object\n",
            " 9   DC           244 non-null    object\n",
            " 10  ISI          244 non-null    object\n",
            " 11  BUI          244 non-null    object\n",
            " 12  FWI          244 non-null    object\n",
            " 13  Classes      243 non-null    object\n",
            "dtypes: int64(1), object(13)\n",
            "memory usage: 28.6+ KB\n"
          ]
        }
      ]
    },
    {
      "cell_type": "markdown",
      "source": [
        "**2. Handling Month Feature**"
      ],
      "metadata": {
        "id": "09LLvsgg7_Ym"
      }
    },
    {
      "cell_type": "code",
      "source": [
        "df[\"month\"].unique()"
      ],
      "metadata": {
        "colab": {
          "base_uri": "https://localhost:8080/"
        },
        "id": "aOJ1zLEx6-GB",
        "outputId": "535e9dfb-f68c-4771-caf1-8115c5e562ef"
      },
      "execution_count": 15,
      "outputs": [
        {
          "output_type": "execute_result",
          "data": {
            "text/plain": [
              "array(['06', '07', '08', '09'], dtype=object)"
            ]
          },
          "metadata": {},
          "execution_count": 15
        }
      ]
    },
    {
      "cell_type": "code",
      "source": [
        "df = df[df[\"month\"].str.isnumeric()]"
      ],
      "metadata": {
        "id": "dMvK_t6y7Qjm"
      },
      "execution_count": 16,
      "outputs": []
    },
    {
      "cell_type": "code",
      "source": [
        "df[\"month\"] = df[\"month\"].astype(int)"
      ],
      "metadata": {
        "id": "TkQBm3Vdn23m"
      },
      "execution_count": 17,
      "outputs": []
    },
    {
      "cell_type": "code",
      "source": [
        "df.info()"
      ],
      "metadata": {
        "colab": {
          "base_uri": "https://localhost:8080/"
        },
        "id": "ZKSjfeuhu54d",
        "outputId": "de5c0064-4244-4b36-91c2-3f14fe3f510f"
      },
      "execution_count": 18,
      "outputs": [
        {
          "output_type": "stream",
          "name": "stdout",
          "text": [
            "<class 'pandas.core.frame.DataFrame'>\n",
            "Int64Index: 244 entries, 0 to 245\n",
            "Data columns (total 14 columns):\n",
            " #   Column       Non-Null Count  Dtype \n",
            "---  ------       --------------  ----- \n",
            " 0   day          244 non-null    int64 \n",
            " 1   month        244 non-null    int64 \n",
            " 2   year         244 non-null    object\n",
            " 3   Temperature  244 non-null    object\n",
            " 4   RH           244 non-null    object\n",
            " 5   Ws           244 non-null    object\n",
            " 6   Rain         244 non-null    object\n",
            " 7   FFMC         244 non-null    object\n",
            " 8   DMC          244 non-null    object\n",
            " 9   DC           244 non-null    object\n",
            " 10  ISI          244 non-null    object\n",
            " 11  BUI          244 non-null    object\n",
            " 12  FWI          244 non-null    object\n",
            " 13  Classes      243 non-null    object\n",
            "dtypes: int64(2), object(12)\n",
            "memory usage: 28.6+ KB\n"
          ]
        }
      ]
    },
    {
      "cell_type": "markdown",
      "source": [
        "**3. Handling Year Feature**"
      ],
      "metadata": {
        "id": "q-Kf7VWs8D3l"
      }
    },
    {
      "cell_type": "code",
      "source": [
        "df[\"year\"].unique()"
      ],
      "metadata": {
        "colab": {
          "base_uri": "https://localhost:8080/"
        },
        "id": "tZV4cnSG7TE6",
        "outputId": "157aa340-0c1d-4e74-8683-805214a46d44"
      },
      "execution_count": 19,
      "outputs": [
        {
          "output_type": "execute_result",
          "data": {
            "text/plain": [
              "array(['2012'], dtype=object)"
            ]
          },
          "metadata": {},
          "execution_count": 19
        }
      ]
    },
    {
      "cell_type": "code",
      "source": [
        "df = df[df[\"year\"].str.isnumeric()]"
      ],
      "metadata": {
        "id": "DVRwgb-n7Wo5"
      },
      "execution_count": 20,
      "outputs": []
    },
    {
      "cell_type": "code",
      "source": [
        "df[\"year\"] = df[\"year\"].astype(int)"
      ],
      "metadata": {
        "id": "5sMysft7n30O"
      },
      "execution_count": 21,
      "outputs": []
    },
    {
      "cell_type": "code",
      "source": [
        "df.info()"
      ],
      "metadata": {
        "colab": {
          "base_uri": "https://localhost:8080/"
        },
        "id": "CAuVfNW4vjgc",
        "outputId": "14a636b5-5c36-432f-824c-7d93d462e8d4"
      },
      "execution_count": 22,
      "outputs": [
        {
          "output_type": "stream",
          "name": "stdout",
          "text": [
            "<class 'pandas.core.frame.DataFrame'>\n",
            "Int64Index: 244 entries, 0 to 245\n",
            "Data columns (total 14 columns):\n",
            " #   Column       Non-Null Count  Dtype \n",
            "---  ------       --------------  ----- \n",
            " 0   day          244 non-null    int64 \n",
            " 1   month        244 non-null    int64 \n",
            " 2   year         244 non-null    int64 \n",
            " 3   Temperature  244 non-null    object\n",
            " 4   RH           244 non-null    object\n",
            " 5   Ws           244 non-null    object\n",
            " 6   Rain         244 non-null    object\n",
            " 7   FFMC         244 non-null    object\n",
            " 8   DMC          244 non-null    object\n",
            " 9   DC           244 non-null    object\n",
            " 10  ISI          244 non-null    object\n",
            " 11  BUI          244 non-null    object\n",
            " 12  FWI          244 non-null    object\n",
            " 13  Classes      243 non-null    object\n",
            "dtypes: int64(3), object(11)\n",
            "memory usage: 28.6+ KB\n"
          ]
        }
      ]
    },
    {
      "cell_type": "markdown",
      "source": [
        "**4. Handling Temperature Feature**"
      ],
      "metadata": {
        "id": "q7v9az9a8N4M"
      }
    },
    {
      "cell_type": "code",
      "source": [
        "df[\"Temperature\"].unique()"
      ],
      "metadata": {
        "colab": {
          "base_uri": "https://localhost:8080/"
        },
        "id": "Reiap5dp7Z7Y",
        "outputId": "65d6b886-a5b8-491c-e473-1859215dde07"
      },
      "execution_count": 23,
      "outputs": [
        {
          "output_type": "execute_result",
          "data": {
            "text/plain": [
              "array(['29', '26', '25', '27', '31', '33', '30', '28', '32', '34', '35',\n",
              "       '36', '37', '22', '24', '38', '39', '40', '42'], dtype=object)"
            ]
          },
          "metadata": {},
          "execution_count": 23
        }
      ]
    },
    {
      "cell_type": "code",
      "source": [
        "df = df[df[\"Temperature\"].str.isnumeric()]"
      ],
      "metadata": {
        "id": "xssiiXAI7lug"
      },
      "execution_count": 24,
      "outputs": []
    },
    {
      "cell_type": "code",
      "source": [
        "df[\"Temperature\"] = df[\"Temperature\"].astype(int)"
      ],
      "metadata": {
        "id": "9-B_-uB8n4ic"
      },
      "execution_count": 25,
      "outputs": []
    },
    {
      "cell_type": "code",
      "source": [
        "df.info()"
      ],
      "metadata": {
        "colab": {
          "base_uri": "https://localhost:8080/"
        },
        "id": "GvkDPYGm8VOL",
        "outputId": "482c07a5-c7db-43e5-bc58-5d32dc3f8241"
      },
      "execution_count": 26,
      "outputs": [
        {
          "output_type": "stream",
          "name": "stdout",
          "text": [
            "<class 'pandas.core.frame.DataFrame'>\n",
            "Int64Index: 244 entries, 0 to 245\n",
            "Data columns (total 14 columns):\n",
            " #   Column       Non-Null Count  Dtype \n",
            "---  ------       --------------  ----- \n",
            " 0   day          244 non-null    int64 \n",
            " 1   month        244 non-null    int64 \n",
            " 2   year         244 non-null    int64 \n",
            " 3   Temperature  244 non-null    int64 \n",
            " 4   RH           244 non-null    object\n",
            " 5   Ws           244 non-null    object\n",
            " 6   Rain         244 non-null    object\n",
            " 7   FFMC         244 non-null    object\n",
            " 8   DMC          244 non-null    object\n",
            " 9   DC           244 non-null    object\n",
            " 10  ISI          244 non-null    object\n",
            " 11  BUI          244 non-null    object\n",
            " 12  FWI          244 non-null    object\n",
            " 13  Classes      243 non-null    object\n",
            "dtypes: int64(4), object(10)\n",
            "memory usage: 28.6+ KB\n"
          ]
        }
      ]
    },
    {
      "cell_type": "markdown",
      "source": [
        "**5. Handling RH Feature**"
      ],
      "metadata": {
        "id": "4xDhTcqR8RtL"
      }
    },
    {
      "cell_type": "code",
      "source": [
        "df[\"RH\"].unique()"
      ],
      "metadata": {
        "colab": {
          "base_uri": "https://localhost:8080/"
        },
        "id": "BpsrPLW77nXL",
        "outputId": "96f1cb56-f60e-42f5-b5cf-a4abc7a43b1e"
      },
      "execution_count": 27,
      "outputs": [
        {
          "output_type": "execute_result",
          "data": {
            "text/plain": [
              "array(['57', '61', '82', '89', '77', '67', '54', '73', '88', '79', '65',\n",
              "       '81', '84', '78', '80', '55', '62', '66', '64', '53', '47', '50',\n",
              "       '68', '75', '76', '63', '69', '70', '59', '48', '45', '60', '51',\n",
              "       '52', '58', '86', '74', '71', '49', '44', '41', '42', '90', '87',\n",
              "       '72', '46', '37', '36', '56', '43', '83', '29', '34', '33', '35',\n",
              "       '39', '31', '21', '40', '24', '38', '26'], dtype=object)"
            ]
          },
          "metadata": {},
          "execution_count": 27
        }
      ]
    },
    {
      "cell_type": "code",
      "source": [
        "df = df[df[\"RH\"].str.isnumeric()]"
      ],
      "metadata": {
        "id": "Fkj6PeU4w9zc"
      },
      "execution_count": 28,
      "outputs": []
    },
    {
      "cell_type": "code",
      "source": [
        "df[\"RH\"] = df[\"RH\"].astype(int)"
      ],
      "metadata": {
        "id": "wKfdrnxCxIDt"
      },
      "execution_count": 29,
      "outputs": []
    },
    {
      "cell_type": "code",
      "source": [
        "df.info()"
      ],
      "metadata": {
        "id": "gM_L49eYn5uj",
        "colab": {
          "base_uri": "https://localhost:8080/"
        },
        "outputId": "ecb6415d-f1ea-4c10-b52d-4527d37b7d8d"
      },
      "execution_count": 30,
      "outputs": [
        {
          "output_type": "stream",
          "name": "stdout",
          "text": [
            "<class 'pandas.core.frame.DataFrame'>\n",
            "Int64Index: 244 entries, 0 to 245\n",
            "Data columns (total 14 columns):\n",
            " #   Column       Non-Null Count  Dtype \n",
            "---  ------       --------------  ----- \n",
            " 0   day          244 non-null    int64 \n",
            " 1   month        244 non-null    int64 \n",
            " 2   year         244 non-null    int64 \n",
            " 3   Temperature  244 non-null    int64 \n",
            " 4   RH           244 non-null    int64 \n",
            " 5   Ws           244 non-null    object\n",
            " 6   Rain         244 non-null    object\n",
            " 7   FFMC         244 non-null    object\n",
            " 8   DMC          244 non-null    object\n",
            " 9   DC           244 non-null    object\n",
            " 10  ISI          244 non-null    object\n",
            " 11  BUI          244 non-null    object\n",
            " 12  FWI          244 non-null    object\n",
            " 13  Classes      243 non-null    object\n",
            "dtypes: int64(5), object(9)\n",
            "memory usage: 28.6+ KB\n"
          ]
        }
      ]
    },
    {
      "cell_type": "markdown",
      "source": [
        "**6. Handling Ws Feature**"
      ],
      "metadata": {
        "id": "jY29n73y-jGN"
      }
    },
    {
      "cell_type": "code",
      "source": [
        "df[\"Ws\"].unique()"
      ],
      "metadata": {
        "colab": {
          "base_uri": "https://localhost:8080/"
        },
        "id": "ZAsZjXrp-nXC",
        "outputId": "7c3f3a15-6d7b-451e-d1d4-d0fa3580ca87"
      },
      "execution_count": 31,
      "outputs": [
        {
          "output_type": "execute_result",
          "data": {
            "text/plain": [
              "array(['18', '13', '22', '16', '14', '15', '12', '19', '21', '20', '17',\n",
              "       '26', '11', '10', '9', '8', '6', '29'], dtype=object)"
            ]
          },
          "metadata": {},
          "execution_count": 31
        }
      ]
    },
    {
      "cell_type": "code",
      "source": [
        "df = df[df[\"Ws\"].str.isnumeric()]"
      ],
      "metadata": {
        "id": "hFyuL1k6_2Id"
      },
      "execution_count": 32,
      "outputs": []
    },
    {
      "cell_type": "code",
      "source": [
        "df[\"Ws\"] = df[\"Ws\"].astype(int)"
      ],
      "metadata": {
        "id": "Rhvnom-EAGqC"
      },
      "execution_count": 33,
      "outputs": []
    },
    {
      "cell_type": "code",
      "source": [
        "df.info()"
      ],
      "metadata": {
        "colab": {
          "base_uri": "https://localhost:8080/"
        },
        "id": "geJZPgug2lnk",
        "outputId": "10ccb266-0857-478b-b58d-1d5873c5bf93"
      },
      "execution_count": 34,
      "outputs": [
        {
          "output_type": "stream",
          "name": "stdout",
          "text": [
            "<class 'pandas.core.frame.DataFrame'>\n",
            "Int64Index: 244 entries, 0 to 245\n",
            "Data columns (total 14 columns):\n",
            " #   Column       Non-Null Count  Dtype \n",
            "---  ------       --------------  ----- \n",
            " 0   day          244 non-null    int64 \n",
            " 1   month        244 non-null    int64 \n",
            " 2   year         244 non-null    int64 \n",
            " 3   Temperature  244 non-null    int64 \n",
            " 4   RH           244 non-null    int64 \n",
            " 5   Ws           244 non-null    int64 \n",
            " 6   Rain         244 non-null    object\n",
            " 7   FFMC         244 non-null    object\n",
            " 8   DMC          244 non-null    object\n",
            " 9   DC           244 non-null    object\n",
            " 10  ISI          244 non-null    object\n",
            " 11  BUI          244 non-null    object\n",
            " 12  FWI          244 non-null    object\n",
            " 13  Classes      243 non-null    object\n",
            "dtypes: int64(6), object(8)\n",
            "memory usage: 28.6+ KB\n"
          ]
        }
      ]
    },
    {
      "cell_type": "markdown",
      "source": [
        "**7. Handling Rain Feature**"
      ],
      "metadata": {
        "id": "tfF-I9h4AIOL"
      }
    },
    {
      "cell_type": "code",
      "source": [
        "df[\"Rain\"].unique()"
      ],
      "metadata": {
        "colab": {
          "base_uri": "https://localhost:8080/"
        },
        "id": "8FjMLsyyAV1r",
        "outputId": "d3c2497b-e6c7-43c1-8f47-9a6e3eecfbc0"
      },
      "execution_count": 35,
      "outputs": [
        {
          "output_type": "execute_result",
          "data": {
            "text/plain": [
              "array(['0', '1.3', '13.1', '2.5', '0.2', '1.2', '0.5', '3.1', '0.7',\n",
              "       '0.6', '0.3', '0.1', '0.4', '1', '1.4', '0.8', '16.8', '7.2',\n",
              "       '10.1', '3.8', '0.9', '1.8', '4.6', '8.3', '5.8', '4', '2', '4.7',\n",
              "       '8.7', '4.5', '1.1', '1.7', '2.2', '6', '1.9', '2.9', '4.1', '6.5',\n",
              "       '4.4'], dtype=object)"
            ]
          },
          "metadata": {},
          "execution_count": 35
        }
      ]
    },
    {
      "cell_type": "code",
      "source": [
        "df[\"Rain\"] = df[\"Rain\"].astype(float) "
      ],
      "metadata": {
        "id": "0lmtwild2pnu"
      },
      "execution_count": 36,
      "outputs": []
    },
    {
      "cell_type": "code",
      "source": [
        "df.info()"
      ],
      "metadata": {
        "id": "8HQSletkn6lL",
        "colab": {
          "base_uri": "https://localhost:8080/"
        },
        "outputId": "e0da13fd-940f-4225-aeea-9d37d7f5e555"
      },
      "execution_count": 37,
      "outputs": [
        {
          "output_type": "stream",
          "name": "stdout",
          "text": [
            "<class 'pandas.core.frame.DataFrame'>\n",
            "Int64Index: 244 entries, 0 to 245\n",
            "Data columns (total 14 columns):\n",
            " #   Column       Non-Null Count  Dtype  \n",
            "---  ------       --------------  -----  \n",
            " 0   day          244 non-null    int64  \n",
            " 1   month        244 non-null    int64  \n",
            " 2   year         244 non-null    int64  \n",
            " 3   Temperature  244 non-null    int64  \n",
            " 4   RH           244 non-null    int64  \n",
            " 5   Ws           244 non-null    int64  \n",
            " 6   Rain         244 non-null    float64\n",
            " 7   FFMC         244 non-null    object \n",
            " 8   DMC          244 non-null    object \n",
            " 9   DC           244 non-null    object \n",
            " 10  ISI          244 non-null    object \n",
            " 11  BUI          244 non-null    object \n",
            " 12  FWI          244 non-null    object \n",
            " 13  Classes      243 non-null    object \n",
            "dtypes: float64(1), int64(6), object(7)\n",
            "memory usage: 28.6+ KB\n"
          ]
        }
      ]
    },
    {
      "cell_type": "markdown",
      "source": [
        "**8. Handling FFMC Feature**"
      ],
      "metadata": {
        "id": "lpYYZGYcAOEr"
      }
    },
    {
      "cell_type": "code",
      "source": [
        "df[\"FFMC\"].unique()"
      ],
      "metadata": {
        "colab": {
          "base_uri": "https://localhost:8080/"
        },
        "id": "nLIDiBwvAgvv",
        "outputId": "fd75f532-dea6-4f71-ffc8-496e913544d4"
      },
      "execution_count": 38,
      "outputs": [
        {
          "output_type": "execute_result",
          "data": {
            "text/plain": [
              "array(['65.7', '64.4', '47.1', '28.6', '64.8', '82.6', '88.2', '86.6',\n",
              "       '52.9', '73.2', '84.5', '84', '50', '59', '49.4', '36.1', '37.3',\n",
              "       '56.9', '79.9', '59.8', '81', '79.1', '81.4', '85.9', '86.7',\n",
              "       '86.8', '89', '89.1', '88.7', '59.9', '55.7', '63.1', '80.1', '87',\n",
              "       '80', '85.6', '66.6', '81.1', '75.1', '81.8', '73.9', '60.7',\n",
              "       '72.6', '82.8', '85.4', '88.1', '73.4', '68.2', '70', '84.3',\n",
              "       '89.2', '90.3', '86.5', '87.2', '78.8', '78', '76.6', '85', '86.4',\n",
              "       '77.1', '87.4', '88.9', '81.3', '82.4', '80.2', '89.3', '89.4',\n",
              "       '88.3', '88.6', '89.5', '85.8', '84.9', '90.1', '72.7', '52.5',\n",
              "       '46', '30.5', '42.6', '68.4', '80.8', '75.8', '69.6', '62', '56.1',\n",
              "       '58.5', '71', '40.9', '47.4', '44.9', '78.1', '87.7', '83.8',\n",
              "       '87.8', '77.8', '73.7', '68.3', '48.6', '82', '85.7', '77.5', '45',\n",
              "       '57.1', '48.7', '79.4', '83.7', '71.4', '90.6', '72.3', '53.4',\n",
              "       '66.8', '62.2', '65.5', '64.6', '60.2', '86.2', '78.3', '74.2',\n",
              "       '85.3', '86', '92.5', '79.7', '63.7', '87.6', '84.7', '88', '90.5',\n",
              "       '82.3', '74.8', '85.2', '84.6', '86.1', '89.9', '93.9', '91.5',\n",
              "       '87.3', '72.8', '73.8', '87.5', '93.3', '93.7', '93.8', '70.5',\n",
              "       '69.7', '91.7', '94.2', '93', '91.9', '83.9', '92', '96', '94.3',\n",
              "       '82.7', '91.2', '92.1', '92.2', '91', '79.2', '37.9', '75.4',\n",
              "       '82.2', '73.5', '66.1', '64.5', '83.3', '82.5', '83.1', '59.5',\n",
              "       '84.2', '79.5', '61.3', '41.1', '45.9', '67.3'], dtype=object)"
            ]
          },
          "metadata": {},
          "execution_count": 38
        }
      ]
    },
    {
      "cell_type": "code",
      "source": [
        "df[\"FFMC\"] = df[\"FFMC\"].astype(float)"
      ],
      "metadata": {
        "id": "-33h6KblAi_e"
      },
      "execution_count": 39,
      "outputs": []
    },
    {
      "cell_type": "code",
      "source": [
        "df.info()"
      ],
      "metadata": {
        "colab": {
          "base_uri": "https://localhost:8080/"
        },
        "id": "jlwG3LSw5-vY",
        "outputId": "bc23da03-1e9c-434a-b347-14ba73e1b89d"
      },
      "execution_count": 40,
      "outputs": [
        {
          "output_type": "stream",
          "name": "stdout",
          "text": [
            "<class 'pandas.core.frame.DataFrame'>\n",
            "Int64Index: 244 entries, 0 to 245\n",
            "Data columns (total 14 columns):\n",
            " #   Column       Non-Null Count  Dtype  \n",
            "---  ------       --------------  -----  \n",
            " 0   day          244 non-null    int64  \n",
            " 1   month        244 non-null    int64  \n",
            " 2   year         244 non-null    int64  \n",
            " 3   Temperature  244 non-null    int64  \n",
            " 4   RH           244 non-null    int64  \n",
            " 5   Ws           244 non-null    int64  \n",
            " 6   Rain         244 non-null    float64\n",
            " 7   FFMC         244 non-null    float64\n",
            " 8   DMC          244 non-null    object \n",
            " 9   DC           244 non-null    object \n",
            " 10  ISI          244 non-null    object \n",
            " 11  BUI          244 non-null    object \n",
            " 12  FWI          244 non-null    object \n",
            " 13  Classes      243 non-null    object \n",
            "dtypes: float64(2), int64(6), object(6)\n",
            "memory usage: 28.6+ KB\n"
          ]
        }
      ]
    },
    {
      "cell_type": "markdown",
      "source": [
        "**9. Handling DMC Feature**"
      ],
      "metadata": {
        "id": "Co2qwNczAv-K"
      }
    },
    {
      "cell_type": "code",
      "source": [
        "df[\"DMC\"].unique()"
      ],
      "metadata": {
        "colab": {
          "base_uri": "https://localhost:8080/"
        },
        "id": "8a3F7B3cAzQ5",
        "outputId": "dbccd19a-22fa-431a-d060-b44f7e95d655"
      },
      "execution_count": 41,
      "outputs": [
        {
          "output_type": "execute_result",
          "data": {
            "text/plain": [
              "array(['3.4', '4.1', '2.5', '1.3', '3', '5.8', '9.9', '12.1', '7.9',\n",
              "       '9.5', '12.5', '13.8', '6.7', '4.6', '1.7', '1.1', '1.9', '4.5',\n",
              "       '6.3', '7', '8.2', '11.2', '14.2', '17.8', '21.6', '25.5', '18.4',\n",
              "       '22.9', '2.4', '2.6', '7.6', '10.9', '9.7', '7.7', '6', '8.1',\n",
              "       '7.8', '5.2', '9.4', '12', '12.3', '18.5', '16.4', '10.5', '9.6',\n",
              "       '17.1', '22.2', '24.4', '26.7', '28.5', '31.9', '4.8', '5.7',\n",
              "       '11.1', '13', '15.5', '11.3', '14.8', '18.6', '21.7', '15.6', '19',\n",
              "       '11.7', '16', '20', '23.2', '25.9', '29.6', '33.5', '37.6', '40.5',\n",
              "       '43.9', '45.6', '47', '50.2', '54.2', '25.2', '8.7', '0.7', '1.2',\n",
              "       '3.6', '3.2', '2.1', '2.2', '0.9', '6.4', '9.8', '13.5', '16.5',\n",
              "       '10.6', '5.5', '8.3', '7.1', '2.9', '2.7', '8.4', '8.5', '13.3',\n",
              "       '18.2', '21.3', '11.4', '7.2', '4.2', '3.9', '4.4', '3.8', '10',\n",
              "       '12.8', '20.9', '27.2', '17.9', '13.6', '18.7', '8', '12.6',\n",
              "       '12.9', '18', '19.4', '21.1', '23.9', '27.8', '32.7', '39.6',\n",
              "       '44.2', '46.6', '10.8', '11.8', '15.7', '19.5', '23.8', '28.3',\n",
              "       '23', '23.6', '11', '15.8', '22.5', '16.9', '22.3', '22.6', '30.3',\n",
              "       '35.9', '34.4', '36.9', '41.1', '46.1', '51.3', '56.3', '61.3',\n",
              "       '65.9', '37', '20.7', '24.8', '4', '3.3', '6.6', '4.7', '6.5',\n",
              "       '11.5', '21.2', '25.8', '24.9', '26.1', '29.4', '11.9', '3.5',\n",
              "       '4.3'], dtype=object)"
            ]
          },
          "metadata": {},
          "execution_count": 41
        }
      ]
    },
    {
      "cell_type": "code",
      "source": [
        "df[\"DMC\"] = df[\"DMC\"].astype(float)"
      ],
      "metadata": {
        "id": "WhDh172h6DMJ"
      },
      "execution_count": 42,
      "outputs": []
    },
    {
      "cell_type": "code",
      "source": [
        "df.info()"
      ],
      "metadata": {
        "colab": {
          "base_uri": "https://localhost:8080/"
        },
        "id": "UokcojMj5kL5",
        "outputId": "b472a6c0-2585-4865-dddd-8ab0d5fd04a6"
      },
      "execution_count": 43,
      "outputs": [
        {
          "output_type": "stream",
          "name": "stdout",
          "text": [
            "<class 'pandas.core.frame.DataFrame'>\n",
            "Int64Index: 244 entries, 0 to 245\n",
            "Data columns (total 14 columns):\n",
            " #   Column       Non-Null Count  Dtype  \n",
            "---  ------       --------------  -----  \n",
            " 0   day          244 non-null    int64  \n",
            " 1   month        244 non-null    int64  \n",
            " 2   year         244 non-null    int64  \n",
            " 3   Temperature  244 non-null    int64  \n",
            " 4   RH           244 non-null    int64  \n",
            " 5   Ws           244 non-null    int64  \n",
            " 6   Rain         244 non-null    float64\n",
            " 7   FFMC         244 non-null    float64\n",
            " 8   DMC          244 non-null    float64\n",
            " 9   DC           244 non-null    object \n",
            " 10  ISI          244 non-null    object \n",
            " 11  BUI          244 non-null    object \n",
            " 12  FWI          244 non-null    object \n",
            " 13  Classes      243 non-null    object \n",
            "dtypes: float64(3), int64(6), object(5)\n",
            "memory usage: 28.6+ KB\n"
          ]
        }
      ]
    },
    {
      "cell_type": "markdown",
      "source": [
        "**10. Handling DC Feature**"
      ],
      "metadata": {
        "id": "PJ_2XCsvBOr4"
      }
    },
    {
      "cell_type": "code",
      "source": [
        "df[\"DC\"].unique()"
      ],
      "metadata": {
        "colab": {
          "base_uri": "https://localhost:8080/"
        },
        "id": "SUaXJl47BTqU",
        "outputId": "1dd813c1-84c5-4e3f-8193-ea75748227ed"
      },
      "execution_count": 44,
      "outputs": [
        {
          "output_type": "execute_result",
          "data": {
            "text/plain": [
              "array(['7.6', '7.1', '6.9', '14.2', '22.2', '30.5', '38.3', '38.8',\n",
              "       '46.3', '54.3', '61.4', '17', '7.8', '7.4', '8', '16', '27.1',\n",
              "       '31.6', '39.5', '47.7', '55.8', '63.8', '71.8', '80.3', '88.5',\n",
              "       '84.4', '92.8', '8.6', '8.3', '9.2', '18.5', '27.9', '37', '40.4',\n",
              "       '49.8', '9.3', '18.7', '27.7', '37.2', '22.9', '25.5', '34.1',\n",
              "       '43.1', '52.8', '62.1', '71.5', '79.9', '71.3', '79.7', '88.7',\n",
              "       '98.6', '108.5', '117.8', '127', '136', '145.7', '10.2', '10',\n",
              "       '19.8', '29.7', '39.1', '48.6', '47', '57', '67', '77', '75.1',\n",
              "       '85.1', '94.7', '92.5', '90.4', '100.7', '110.9', '120.9', '130.6',\n",
              "       '141.1', '151.3', '161.5', '171.3', '181.3', '190.6', '200.2',\n",
              "       '210.4', '220.4', '180.4', '8.7', '7.5', '7', '15.7', '24', '32.2',\n",
              "       '30.1', '8.4', '8.9', '16.6', '7.3', '24.3', '33.1', '41.3',\n",
              "       '49.3', '57.9', '41.4', '30.4', '15.2', '7.7', '16.3', '24.9',\n",
              "       '8.8', '8.2', '15.4', '17.6', '26.3', '28.9', '14.7', '22.5',\n",
              "       '37.8', '18.4', '25.6', '34.5', '43.3', '52.4', '36.7', '8.5',\n",
              "       '17.8', '27.3', '36.8', '46.4', '45.1', '35.4', '9.7', '9.9',\n",
              "       '9.5', '19.4', '10.4', '14.6 9', '24.1', '42.3', '51.6', '61.1',\n",
              "       '71', '80.6', '90.1', '99', '56.6', '15.9', '19.7', '28.3', '37.6',\n",
              "       '47.2', '57.1', '67.2', '10.5', '21.4', '32.1', '42.7', '52.5',\n",
              "       '9.1', '9.8', '20.2', '30.9', '41.5', '55.5', '54.2', '65.1',\n",
              "       '76.4', '86.8', '96.8', '107', '117.1', '127.5', '137.7', '147.7',\n",
              "       '157.5', '167.2', '177.3', '166', '149.2', '159.1', '168.2',\n",
              "       '26.6', '17.7', '26.1', '25.2', '33.4', '50.2', '59.2', '63.3',\n",
              "       '77.8', '86', '88', '97.3', '106.3', '115.6', '28.1', '36.1',\n",
              "       '44.5', '7.9', '16.5'], dtype=object)"
            ]
          },
          "metadata": {},
          "execution_count": 44
        }
      ]
    },
    {
      "cell_type": "code",
      "source": [
        "df[\"DC\"].value_counts()"
      ],
      "metadata": {
        "colab": {
          "base_uri": "https://localhost:8080/"
        },
        "id": "DO-ogJJV41Pq",
        "outputId": "da3d65f9-96ed-4760-9c60-327587744b02"
      },
      "execution_count": 45,
      "outputs": [
        {
          "output_type": "execute_result",
          "data": {
            "text/plain": [
              "8        5\n",
              "7.6      4\n",
              "7.8      4\n",
              "8.4      4\n",
              "7.5      4\n",
              "        ..\n",
              "90.4     1\n",
              "100.7    1\n",
              "110.9    1\n",
              "120.9    1\n",
              "16.5     1\n",
              "Name: DC, Length: 198, dtype: int64"
            ]
          },
          "metadata": {},
          "execution_count": 45
        }
      ]
    },
    {
      "cell_type": "code",
      "source": [
        "df[\"DC\"] =df[\"DC\"].str.replace(\"14.6 9\",\"14.69\")"
      ],
      "metadata": {
        "id": "a18IRuL26TrI"
      },
      "execution_count": 46,
      "outputs": []
    },
    {
      "cell_type": "code",
      "source": [
        "df[\"DC\"] = df[\"DC\"].astype(float)"
      ],
      "metadata": {
        "id": "iKHt8rGl1wtq"
      },
      "execution_count": 47,
      "outputs": []
    },
    {
      "cell_type": "code",
      "source": [
        "df.info()"
      ],
      "metadata": {
        "colab": {
          "base_uri": "https://localhost:8080/"
        },
        "id": "MI4wFRnI13Ea",
        "outputId": "443278ca-7f3e-4b6b-f74f-94207d5de743"
      },
      "execution_count": 48,
      "outputs": [
        {
          "output_type": "stream",
          "name": "stdout",
          "text": [
            "<class 'pandas.core.frame.DataFrame'>\n",
            "Int64Index: 244 entries, 0 to 245\n",
            "Data columns (total 14 columns):\n",
            " #   Column       Non-Null Count  Dtype  \n",
            "---  ------       --------------  -----  \n",
            " 0   day          244 non-null    int64  \n",
            " 1   month        244 non-null    int64  \n",
            " 2   year         244 non-null    int64  \n",
            " 3   Temperature  244 non-null    int64  \n",
            " 4   RH           244 non-null    int64  \n",
            " 5   Ws           244 non-null    int64  \n",
            " 6   Rain         244 non-null    float64\n",
            " 7   FFMC         244 non-null    float64\n",
            " 8   DMC          244 non-null    float64\n",
            " 9   DC           244 non-null    float64\n",
            " 10  ISI          244 non-null    object \n",
            " 11  BUI          244 non-null    object \n",
            " 12  FWI          244 non-null    object \n",
            " 13  Classes      243 non-null    object \n",
            "dtypes: float64(4), int64(6), object(4)\n",
            "memory usage: 28.6+ KB\n"
          ]
        }
      ]
    },
    {
      "cell_type": "markdown",
      "source": [
        "**11. Handling ISI Feature**"
      ],
      "metadata": {
        "id": "b7r8kDoaBWpP"
      }
    },
    {
      "cell_type": "code",
      "source": [
        "df[\"ISI\"].unique()"
      ],
      "metadata": {
        "colab": {
          "base_uri": "https://localhost:8080/"
        },
        "id": "r5-lvn_hBbwC",
        "outputId": "0f7b91be-fb3c-4837-9aaa-d2b1a511c119"
      },
      "execution_count": 49,
      "outputs": [
        {
          "output_type": "execute_result",
          "data": {
            "text/plain": [
              "array(['1.3', '1', '0.3', '0', '1.2', '3.1', '6.4', '5.6', '0.4', '4',\n",
              "       '4.8', '0.5', '0.7', '2.5', '0.9', '2.6', '2.4', '3.3', '5.7',\n",
              "       '6.7', '9.2', '7.6', '2.2', '7.2', '1.1', '0.8', '2.7', '2.8', '6',\n",
              "       '1.5', '3', '1.4', '3.2', '4.6', '7.7', '5.2', '1.8', '10', '8.7',\n",
              "       '4.7', '6.8', '2', '1.7', '5.5', '6.9', '7.4', '7.1', '5.9', '3.7',\n",
              "       '9.7', '8.8', '9.9', '10.4', '9', '8.2', '4.4', '7.3', '12.5',\n",
              "       '0.6', '0.2', '0.1', '2.1', '1.9', '6.2', '7.8', '4.5', '5.4',\n",
              "       '8.4', '13.4', '5', '1.6', '4.9', '7', '8', '11.7', '11.3', '4.3',\n",
              "       '4.1', '8.3', '4.2', '10.9', '9.5', '18.5', '13.2', '13.8', '17.2',\n",
              "       '15.7', '19', '9.6', '16.6', '15.5', '7.5', '10.8', '3.5', '16',\n",
              "       '3.8', '5.1', '11.5', '12.2', '14.3', '13.1', '8.1', '9.8', '9.1',\n",
              "       '14.2', '11.2'], dtype=object)"
            ]
          },
          "metadata": {},
          "execution_count": 49
        }
      ]
    },
    {
      "cell_type": "code",
      "source": [
        "df[\"ISI\"] = df[\"ISI\"].astype(float)"
      ],
      "metadata": {
        "id": "zTVxv-DoBdz-"
      },
      "execution_count": 50,
      "outputs": []
    },
    {
      "cell_type": "code",
      "source": [
        "df.info()"
      ],
      "metadata": {
        "id": "JLXLVa2hBe9h",
        "colab": {
          "base_uri": "https://localhost:8080/"
        },
        "outputId": "399759e8-cafc-4c41-8c55-c379bacbb251"
      },
      "execution_count": 51,
      "outputs": [
        {
          "output_type": "stream",
          "name": "stdout",
          "text": [
            "<class 'pandas.core.frame.DataFrame'>\n",
            "Int64Index: 244 entries, 0 to 245\n",
            "Data columns (total 14 columns):\n",
            " #   Column       Non-Null Count  Dtype  \n",
            "---  ------       --------------  -----  \n",
            " 0   day          244 non-null    int64  \n",
            " 1   month        244 non-null    int64  \n",
            " 2   year         244 non-null    int64  \n",
            " 3   Temperature  244 non-null    int64  \n",
            " 4   RH           244 non-null    int64  \n",
            " 5   Ws           244 non-null    int64  \n",
            " 6   Rain         244 non-null    float64\n",
            " 7   FFMC         244 non-null    float64\n",
            " 8   DMC          244 non-null    float64\n",
            " 9   DC           244 non-null    float64\n",
            " 10  ISI          244 non-null    float64\n",
            " 11  BUI          244 non-null    object \n",
            " 12  FWI          244 non-null    object \n",
            " 13  Classes      243 non-null    object \n",
            "dtypes: float64(5), int64(6), object(3)\n",
            "memory usage: 28.6+ KB\n"
          ]
        }
      ]
    },
    {
      "cell_type": "markdown",
      "source": [
        "**12. Handling BUI Feature**"
      ],
      "metadata": {
        "id": "nFsMBW_9Bfbp"
      }
    },
    {
      "cell_type": "code",
      "source": [
        "df[\"BUI\"].unique()"
      ],
      "metadata": {
        "id": "cFEaxZ-2Bj3G",
        "colab": {
          "base_uri": "https://localhost:8080/"
        },
        "outputId": "019ab653-ccd3-4f23-8a02-0274dec4bfea"
      },
      "execution_count": 52,
      "outputs": [
        {
          "output_type": "execute_result",
          "data": {
            "text/plain": [
              "array(['3.4', '3.9', '2.7', '1.7', '7', '10.9', '13.5', '10.5', '12.6',\n",
              "       '15.8', '17.7', '6.7', '4.4', '3', '2.2', '1.6', '2.4', '5.3',\n",
              "       '5.1', '8.4', '9.7', '11.5', '14.9', '18.3', '21.6', '25.8',\n",
              "       '29.7', '23.8', '28.3', '2.9', '2.8', '5.7', '9.1', '12.5', '12.1',\n",
              "       '15.4', '7.4', '5.8', '8.1', '9.2', '11.7', '5.9', '8.3', '11.1',\n",
              "       '14.2', '18.2', '16.5', '22.4', '21.7', '14.7', '18.5', '23.9',\n",
              "       '29.4', '32.1', '35', '37.4', '41.2', '4.7', '5.5', '8.2', '17.2',\n",
              "       '14.1', '17.9', '21.9', '25.5', '20.7', '24.4', '27.2', '22',\n",
              "       '17.6', '22.9', '27.5', '31.3', '34.7', '38.8', '43.1', '47.5',\n",
              "       '50.9', '54.7', '57.1', '59.3', '62.9', '67.4', '1.8', '1.1',\n",
              "       '5.6', '2.6', '3.7', '1.4', '4.2', '7.7', '11.3', '16', '19.2',\n",
              "       '12.9', '9.6', '6.2', '9', '6.8', '6.5', '9.3', '10.7', '7.3',\n",
              "       '13.1', '18', '21.2', '6.1', '7.1', '4.1', '3.8', '9.9', '12.7',\n",
              "       '16.4', '20.8', '27.1', '17.8', '3.3', '7.8', '10.3', '18.7',\n",
              "       '16.7', '13.7', '9.4', '10.4', '20.9', '27.7', '32.6', '39.5',\n",
              "       '44', '46.5', '11.4', '11.8', '15.7', '19.5', '10.6', '16.9',\n",
              "       '23.5', '6.9', '11', '18.4', '17.5', '22.3', '19', '24.2', '30.4',\n",
              "       '35.9', '35.5', '38.1', '41.3', '45.5', '50.2', '54.9', '59.5',\n",
              "       '64', '68', '30.6', '35.7', '39.3', '4', '6', '3.5', '6.4', '10',\n",
              "       '4.6', '6.6', '12.4', '14.3', '26.2', '28.2', '28.9', '32.4', '36',\n",
              "       '11.9', '4.8'], dtype=object)"
            ]
          },
          "metadata": {},
          "execution_count": 52
        }
      ]
    },
    {
      "cell_type": "code",
      "source": [
        "df[\"BUI\"] = df[\"BUI\"].astype(float)"
      ],
      "metadata": {
        "id": "Js3XUTXLBl3x"
      },
      "execution_count": 53,
      "outputs": []
    },
    {
      "cell_type": "code",
      "source": [
        "df.info()"
      ],
      "metadata": {
        "id": "dQHeykymn-Sn",
        "colab": {
          "base_uri": "https://localhost:8080/"
        },
        "outputId": "d652a820-e800-4e24-a53e-2cca387bda10"
      },
      "execution_count": 54,
      "outputs": [
        {
          "output_type": "stream",
          "name": "stdout",
          "text": [
            "<class 'pandas.core.frame.DataFrame'>\n",
            "Int64Index: 244 entries, 0 to 245\n",
            "Data columns (total 14 columns):\n",
            " #   Column       Non-Null Count  Dtype  \n",
            "---  ------       --------------  -----  \n",
            " 0   day          244 non-null    int64  \n",
            " 1   month        244 non-null    int64  \n",
            " 2   year         244 non-null    int64  \n",
            " 3   Temperature  244 non-null    int64  \n",
            " 4   RH           244 non-null    int64  \n",
            " 5   Ws           244 non-null    int64  \n",
            " 6   Rain         244 non-null    float64\n",
            " 7   FFMC         244 non-null    float64\n",
            " 8   DMC          244 non-null    float64\n",
            " 9   DC           244 non-null    float64\n",
            " 10  ISI          244 non-null    float64\n",
            " 11  BUI          244 non-null    float64\n",
            " 12  FWI          244 non-null    object \n",
            " 13  Classes      243 non-null    object \n",
            "dtypes: float64(6), int64(6), object(2)\n",
            "memory usage: 28.6+ KB\n"
          ]
        }
      ]
    },
    {
      "cell_type": "markdown",
      "source": [
        "**13. Handling FWI Feature**"
      ],
      "metadata": {
        "id": "C6T-85WtBnLD"
      }
    },
    {
      "cell_type": "code",
      "source": [
        "df[\"FWI\"].unique()"
      ],
      "metadata": {
        "id": "ZELfTu_7Bt_l",
        "colab": {
          "base_uri": "https://localhost:8080/"
        },
        "outputId": "7285fa2a-cca5-4902-d5cc-e699b12400e6"
      },
      "execution_count": 55,
      "outputs": [
        {
          "output_type": "execute_result",
          "data": {
            "text/plain": [
              "array(['0.5', '0.4', '0.1', '0', '2.5', '7.2', '7.1', '0.3', '0.9', '5.6',\n",
              "       '7.1 ', '0.2', '1.4', '2.2', '2.3', '3.8', '7.5', '8.4', '10.6',\n",
              "       '15', '13.9', '3.9', '12.9', '1.7', '4.9', '6.8', '3.2', '8',\n",
              "       '0.6', '3.4', '0.8', '3.6', '6', '10.9', '4', '8.8', '2.8', '2.1',\n",
              "       '1.3', '7.3', '15.3', '11.3', '11.9', '10.7', '15.7', '6.1', '2.6',\n",
              "       '9.9', '11.6', '12.1', '4.2', '10.2', '6.3', '14.6', '16.1',\n",
              "       '17.2', '16.8', '18.4', '20.4', '22.3', '20.9', '20.3', '13.7',\n",
              "       '13.2', '19.9', '30.2', '5.9', '7.7', '9.7', '8.3', '0.7', '4.1',\n",
              "       '1', '3.1', '1.9', '10', '16.7', '1.2', '5.3', '6.7', '9.5', '12',\n",
              "       '6.4', '5.2', '3', '9.6', '4.7', 'fire   ', '14.1', '9.1', '13',\n",
              "       '17.3', '30', '25.4', '16.3', '9', '14.5', '13.5', '19.5', '12.6',\n",
              "       '12.7', '21.6', '18.8', '10.5', '5.5', '14.8', '24', '26.3',\n",
              "       '12.2', '18.1', '24.5', '26.9', '31.1', '30.3', '26.1', '16',\n",
              "       '19.4', '2.7', '3.7', '10.3', '5.7', '9.8', '19.3', '17.5', '15.4',\n",
              "       '15.2', '6.5'], dtype=object)"
            ]
          },
          "metadata": {},
          "execution_count": 55
        }
      ]
    },
    {
      "cell_type": "code",
      "source": [
        "df = df[df[\"FWI\"] != 'fire   ']"
      ],
      "metadata": {
        "id": "-vMY0rmq2SeA"
      },
      "execution_count": 56,
      "outputs": []
    },
    {
      "cell_type": "code",
      "source": [
        "df[\"FWI\"] = df[\"FWI\"].astype(float)"
      ],
      "metadata": {
        "id": "AS39All7BusE"
      },
      "execution_count": 57,
      "outputs": []
    },
    {
      "cell_type": "code",
      "source": [
        "df.info()"
      ],
      "metadata": {
        "id": "EkRBwFC6n-32",
        "colab": {
          "base_uri": "https://localhost:8080/"
        },
        "outputId": "8feb4996-a44f-40ed-8c06-897f9c3f45b1"
      },
      "execution_count": 58,
      "outputs": [
        {
          "output_type": "stream",
          "name": "stdout",
          "text": [
            "<class 'pandas.core.frame.DataFrame'>\n",
            "Int64Index: 243 entries, 0 to 245\n",
            "Data columns (total 14 columns):\n",
            " #   Column       Non-Null Count  Dtype  \n",
            "---  ------       --------------  -----  \n",
            " 0   day          243 non-null    int64  \n",
            " 1   month        243 non-null    int64  \n",
            " 2   year         243 non-null    int64  \n",
            " 3   Temperature  243 non-null    int64  \n",
            " 4   RH           243 non-null    int64  \n",
            " 5   Ws           243 non-null    int64  \n",
            " 6   Rain         243 non-null    float64\n",
            " 7   FFMC         243 non-null    float64\n",
            " 8   DMC          243 non-null    float64\n",
            " 9   DC           243 non-null    float64\n",
            " 10  ISI          243 non-null    float64\n",
            " 11  BUI          243 non-null    float64\n",
            " 12  FWI          243 non-null    float64\n",
            " 13  Classes      243 non-null    object \n",
            "dtypes: float64(7), int64(6), object(1)\n",
            "memory usage: 28.5+ KB\n"
          ]
        }
      ]
    },
    {
      "cell_type": "markdown",
      "source": [
        "**14. Handling Classes Feature**"
      ],
      "metadata": {
        "id": "iVcMyOxUBu-0"
      }
    },
    {
      "cell_type": "code",
      "source": [
        "df['Classes'].unique()"
      ],
      "metadata": {
        "id": "6plqI5FDBy8Y",
        "colab": {
          "base_uri": "https://localhost:8080/"
        },
        "outputId": "fa4bf683-6d38-4e79-8212-fed4c934d9ac"
      },
      "execution_count": 59,
      "outputs": [
        {
          "output_type": "execute_result",
          "data": {
            "text/plain": [
              "array(['not fire   ', 'fire   ', 'fire', 'fire ', 'not fire', 'not fire ',\n",
              "       'not fire     ', 'not fire    '], dtype=object)"
            ]
          },
          "metadata": {},
          "execution_count": 59
        }
      ]
    },
    {
      "cell_type": "code",
      "source": [
        "df[\"Classes\"] = df[\"Classes\"].str.replace('not fire   ',\"not fire\")"
      ],
      "metadata": {
        "id": "I6N8i5Pjn_jZ"
      },
      "execution_count": 60,
      "outputs": []
    },
    {
      "cell_type": "code",
      "source": [
        "df[\"Classes\"] = df[\"Classes\"].str.replace('fire   ',\"fire\")"
      ],
      "metadata": {
        "id": "28kfLSBq5lzi"
      },
      "execution_count": 61,
      "outputs": []
    },
    {
      "cell_type": "code",
      "source": [
        "df[\"Classes\"].unique()"
      ],
      "metadata": {
        "colab": {
          "base_uri": "https://localhost:8080/"
        },
        "id": "5FnD0Bur5vKj",
        "outputId": "93fc3f59-ce90-4322-e2f3-0dc73132019d"
      },
      "execution_count": 62,
      "outputs": [
        {
          "output_type": "execute_result",
          "data": {
            "text/plain": [
              "array(['not fire', 'fire', 'fire ', 'not fire ', 'not fire  '],\n",
              "      dtype=object)"
            ]
          },
          "metadata": {},
          "execution_count": 62
        }
      ]
    },
    {
      "cell_type": "code",
      "source": [
        "df['Classes'] = df['Classes'].str.replace('not fire','1')\n",
        "df['Classes'] = df['Classes'].str.replace('fire','0')"
      ],
      "metadata": {
        "id": "ORav1xMQ5_HB"
      },
      "execution_count": 63,
      "outputs": []
    },
    {
      "cell_type": "code",
      "source": [
        "df[\"Classes\"]"
      ],
      "metadata": {
        "colab": {
          "base_uri": "https://localhost:8080/"
        },
        "id": "SS7xkH5J61PC",
        "outputId": "99240375-5b49-459c-86b4-1f22b6fab837"
      },
      "execution_count": 64,
      "outputs": [
        {
          "output_type": "execute_result",
          "data": {
            "text/plain": [
              "0       1\n",
              "1       1\n",
              "2       1\n",
              "3       1\n",
              "4       1\n",
              "       ..\n",
              "241     0\n",
              "242     1\n",
              "243     1\n",
              "244     1\n",
              "245    1 \n",
              "Name: Classes, Length: 243, dtype: object"
            ]
          },
          "metadata": {},
          "execution_count": 64
        }
      ]
    },
    {
      "cell_type": "code",
      "source": [
        "df[\"Classes\"] = df[\"Classes\"].astype(int)"
      ],
      "metadata": {
        "id": "AYv04Oeh7NyL"
      },
      "execution_count": 65,
      "outputs": []
    },
    {
      "cell_type": "code",
      "source": [
        "df.info()"
      ],
      "metadata": {
        "colab": {
          "base_uri": "https://localhost:8080/"
        },
        "id": "iN-WnNAU7i3F",
        "outputId": "e0929edf-2a03-4683-b711-af172241e5bc"
      },
      "execution_count": 66,
      "outputs": [
        {
          "output_type": "stream",
          "name": "stdout",
          "text": [
            "<class 'pandas.core.frame.DataFrame'>\n",
            "Int64Index: 243 entries, 0 to 245\n",
            "Data columns (total 14 columns):\n",
            " #   Column       Non-Null Count  Dtype  \n",
            "---  ------       --------------  -----  \n",
            " 0   day          243 non-null    int64  \n",
            " 1   month        243 non-null    int64  \n",
            " 2   year         243 non-null    int64  \n",
            " 3   Temperature  243 non-null    int64  \n",
            " 4   RH           243 non-null    int64  \n",
            " 5   Ws           243 non-null    int64  \n",
            " 6   Rain         243 non-null    float64\n",
            " 7   FFMC         243 non-null    float64\n",
            " 8   DMC          243 non-null    float64\n",
            " 9   DC           243 non-null    float64\n",
            " 10  ISI          243 non-null    float64\n",
            " 11  BUI          243 non-null    float64\n",
            " 12  FWI          243 non-null    float64\n",
            " 13  Classes      243 non-null    int64  \n",
            "dtypes: float64(7), int64(7)\n",
            "memory usage: 28.5 KB\n"
          ]
        }
      ]
    },
    {
      "cell_type": "code",
      "source": [
        "df.shape"
      ],
      "metadata": {
        "colab": {
          "base_uri": "https://localhost:8080/"
        },
        "id": "D_lDYRx07mUc",
        "outputId": "298afb86-abcf-497f-af55-1194606bf8af"
      },
      "execution_count": 67,
      "outputs": [
        {
          "output_type": "execute_result",
          "data": {
            "text/plain": [
              "(243, 14)"
            ]
          },
          "metadata": {},
          "execution_count": 67
        }
      ]
    },
    {
      "cell_type": "markdown",
      "source": [
        "**EDA**"
      ],
      "metadata": {
        "id": "OIQW6a1C7vKR"
      }
    },
    {
      "cell_type": "code",
      "source": [
        "plt.figure(figsize=(25, 22))\n",
        "plt.suptitle('Univariate Analysis of Numerical Features', fontsize=20, fontweight='bold', alpha=0.8, y=1.02)\n",
        "\n",
        "for i in range(0, len(df.columns)):\n",
        "  plt.subplot(7, 3, i+1)\n",
        "  sns.kdeplot(x=df[df.columns[i]],shade=True, color='r')\n",
        "  plt.xlabel(df.columns[i])\n",
        "  plt.tight_layout()"
      ],
      "metadata": {
        "colab": {
          "base_uri": "https://localhost:8080/",
          "height": 949
        },
        "id": "4IsLHluf8n8K",
        "outputId": "94afb4e8-bebf-401a-aaf7-45249c621969"
      },
      "execution_count": 68,
      "outputs": [
        {
          "output_type": "display_data",
          "data": {
            "text/plain": [
              "<Figure size 1800x1584 with 14 Axes>"
            ],
            "image/png": "[encoded data removed]"
          },
          "metadata": {}
        }
      ]
    },
    {
      "cell_type": "code",
      "source": [
        "plt.figure(figsize=(25,25))\n",
        "plotnumber = 1\n",
        "\n",
        "for column in df:\n",
        "  if plotnumber <= 15:\n",
        "    ax = plt.subplot(7,3,plotnumber)\n",
        "    sns.distplot(df[column])\n",
        "    plt.xlabel(column)\n",
        "  plotnumber+=1\n",
        "plt.show()"
      ],
      "metadata": {
        "colab": {
          "base_uri": "https://localhost:8080/",
          "height": 982
        },
        "id": "z5plOkv79Q-W",
        "outputId": "692a742a-af94-4f1e-cb9b-ed84fed8207a"
      },
      "execution_count": 69,
      "outputs": [
        {
          "output_type": "display_data",
          "data": {
            "text/plain": [
              "<Figure size 1800x1800 with 14 Axes>"
            ],
            "image/png": "[encoded data removed]"
          },
          "metadata": {}
        }
      ]
    },
    {
      "cell_type": "code",
      "source": [
        "# constructing a heatmap to understand the correlation\n",
        "\n",
        "plt.figure(figsize=(17,9))\n",
        "sns.heatmap(df.corr(), cmap='Blues',annot = True)"
      ],
      "metadata": {
        "colab": {
          "base_uri": "https://localhost:8080/",
          "height": 562
        },
        "id": "rzF4ayDM-BeK",
        "outputId": "ca884651-c4a5-471d-f829-6d1ad922b611"
      },
      "execution_count": 70,
      "outputs": [
        {
          "output_type": "execute_result",
          "data": {
            "text/plain": [
              "<matplotlib.axes._subplots.AxesSubplot at 0x7f3bdd50b8b0>"
            ]
          },
          "metadata": {},
          "execution_count": 70
        },
        {
          "output_type": "display_data",
          "data": {
            "text/plain": [
              "<Figure size 1224x648 with 2 Axes>"
            ],
            "image/png": "[encoded data removed]"
          },
          "metadata": {}
        }
      ]
    },
    {
      "cell_type": "code",
      "source": [
        "classes_labels=['Fire','Not Fire']\n",
        "plt.figure(figsize=(8,8))\n",
        "df['Classes'].value_counts().plot(kind='pie',autopct='%0.2f%%',labels=classes_labels)\n",
        "plt.show()"
      ],
      "metadata": {
        "colab": {
          "base_uri": "https://localhost:8080/",
          "height": 466
        },
        "id": "pqqbo_33-fPc",
        "outputId": "3e5a5549-7c01-40f4-d48b-8051d8aa6416"
      },
      "execution_count": 71,
      "outputs": [
        {
          "output_type": "display_data",
          "data": {
            "text/plain": [
              "<Figure size 576x576 with 1 Axes>"
            ],
            "image/png": "[encoded data removed]"
          },
          "metadata": {}
        }
      ]
    },
    {
      "cell_type": "code",
      "source": [
        "df.head(10)"
      ],
      "metadata": {
        "colab": {
          "base_uri": "https://localhost:8080/",
          "height": 363
        },
        "id": "n37sPy0XChsA",
        "outputId": "f1a5418d-4ef2-468c-decc-187bd969a522"
      },
      "execution_count": 72,
      "outputs": [
        {
          "output_type": "execute_result",
          "data": {
            "text/plain": [
              "   day  month  year  Temperature  RH  Ws  Rain  FFMC   DMC    DC  ISI   BUI  \\\n",
              "0    1      6  2012           29  57  18   0.0  65.7   3.4   7.6  1.3   3.4   \n",
              "1    2      6  2012           29  61  13   1.3  64.4   4.1   7.6  1.0   3.9   \n",
              "2    3      6  2012           26  82  22  13.1  47.1   2.5   7.1  0.3   2.7   \n",
              "3    4      6  2012           25  89  13   2.5  28.6   1.3   6.9  0.0   1.7   \n",
              "4    5      6  2012           27  77  16   0.0  64.8   3.0  14.2  1.2   3.9   \n",
              "5    6      6  2012           31  67  14   0.0  82.6   5.8  22.2  3.1   7.0   \n",
              "6    7      6  2012           33  54  13   0.0  88.2   9.9  30.5  6.4  10.9   \n",
              "7    8      6  2012           30  73  15   0.0  86.6  12.1  38.3  5.6  13.5   \n",
              "8    9      6  2012           25  88  13   0.2  52.9   7.9  38.8  0.4  10.5   \n",
              "9   10      6  2012           28  79  12   0.0  73.2   9.5  46.3  1.3  12.6   \n",
              "\n",
              "   FWI  Classes  \n",
              "0  0.5        1  \n",
              "1  0.4        1  \n",
              "2  0.1        1  \n",
              "3  0.0        1  \n",
              "4  0.5        1  \n",
              "5  2.5        0  \n",
              "6  7.2        0  \n",
              "7  7.1        0  \n",
              "8  0.3        1  \n",
              "9  0.9        1  "
            ],
            "text/html": [
              "\n",
              "  <div id=\"df-b8745ec5-2481-4151-9dfe-356439460357\">\n",
              "    <div class=\"colab-df-container\">\n",
              "      <div>\n",
              "<style scoped>\n",
              "    .dataframe tbody tr th:only-of-type {\n",
              "        vertical-align: middle;\n",
              "    }\n",
              "\n",
              "    .dataframe tbody tr th {\n",
              "        vertical-align: top;\n",
              "    }\n",
              "\n",
              "    .dataframe thead th {\n",
              "        text-align: right;\n",
              "    }\n",
              "</style>\n",
              "<table border=\"1\" class=\"dataframe\">\n",
              "  <thead>\n",
              "    <tr style=\"text-align: right;\">\n",
              "      <th></th>\n",
              "      <th>day</th>\n",
              "      <th>month</th>\n",
              "      <th>year</th>\n",
              "      <th>Temperature</th>\n",
              "      <th>RH</th>\n",
              "      <th>Ws</th>\n",
              "      <th>Rain</th>\n",
              "      <th>FFMC</th>\n",
              "      <th>DMC</th>\n",
              "      <th>DC</th>\n",
              "      <th>ISI</th>\n",
              "      <th>BUI</th>\n",
              "      <th>FWI</th>\n",
              "      <th>Classes</th>\n",
              "    </tr>\n",
              "  </thead>\n",
              "  <tbody>\n",
              "    <tr>\n",
              "      <th>0</th>\n",
              "      <td>1</td>\n",
              "      <td>6</td>\n",
              "      <td>2012</td>\n",
              "      <td>29</td>\n",
              "      <td>57</td>\n",
              "      <td>18</td>\n",
              "      <td>0.0</td>\n",
              "      <td>65.7</td>\n",
              "      <td>3.4</td>\n",
              "      <td>7.6</td>\n",
              "      <td>1.3</td>\n",
              "      <td>3.4</td>\n",
              "      <td>0.5</td>\n",
              "      <td>1</td>\n",
              "    </tr>\n",
              "    <tr>\n",
              "      <th>1</th>\n",
              "      <td>2</td>\n",
              "      <td>6</td>\n",
              "      <td>2012</td>\n",
              "      <td>29</td>\n",
              "      <td>61</td>\n",
              "      <td>13</td>\n",
              "      <td>1.3</td>\n",
              "      <td>64.4</td>\n",
              "      <td>4.1</td>\n",
              "      <td>7.6</td>\n",
              "      <td>1.0</td>\n",
              "      <td>3.9</td>\n",
              "      <td>0.4</td>\n",
              "      <td>1</td>\n",
              "    </tr>\n",
              "    <tr>\n",
              "      <th>2</th>\n",
              "      <td>3</td>\n",
              "      <td>6</td>\n",
              "      <td>2012</td>\n",
              "      <td>26</td>\n",
              "      <td>82</td>\n",
              "      <td>22</td>\n",
              "      <td>13.1</td>\n",
              "      <td>47.1</td>\n",
              "      <td>2.5</td>\n",
              "      <td>7.1</td>\n",
              "      <td>0.3</td>\n",
              "      <td>2.7</td>\n",
              "      <td>0.1</td>\n",
              "      <td>1</td>\n",
              "    </tr>\n",
              "    <tr>\n",
              "      <th>3</th>\n",
              "      <td>4</td>\n",
              "      <td>6</td>\n",
              "      <td>2012</td>\n",
              "      <td>25</td>\n",
              "      <td>89</td>\n",
              "      <td>13</td>\n",
              "      <td>2.5</td>\n",
              "      <td>28.6</td>\n",
              "      <td>1.3</td>\n",
              "      <td>6.9</td>\n",
              "      <td>0.0</td>\n",
              "      <td>1.7</td>\n",
              "      <td>0.0</td>\n",
              "      <td>1</td>\n",
              "    </tr>\n",
              "    <tr>\n",
              "      <th>4</th>\n",
              "      <td>5</td>\n",
              "      <td>6</td>\n",
              "      <td>2012</td>\n",
              "      <td>27</td>\n",
              "      <td>77</td>\n",
              "      <td>16</td>\n",
              "      <td>0.0</td>\n",
              "      <td>64.8</td>\n",
              "      <td>3.0</td>\n",
              "      <td>14.2</td>\n",
              "      <td>1.2</td>\n",
              "      <td>3.9</td>\n",
              "      <td>0.5</td>\n",
              "      <td>1</td>\n",
              "    </tr>\n",
              "    <tr>\n",
              "      <th>5</th>\n",
              "      <td>6</td>\n",
              "      <td>6</td>\n",
              "      <td>2012</td>\n",
              "      <td>31</td>\n",
              "      <td>67</td>\n",
              "      <td>14</td>\n",
              "      <td>0.0</td>\n",
              "      <td>82.6</td>\n",
              "      <td>5.8</td>\n",
              "      <td>22.2</td>\n",
              "      <td>3.1</td>\n",
              "      <td>7.0</td>\n",
              "      <td>2.5</td>\n",
              "      <td>0</td>\n",
              "    </tr>\n",
              "    <tr>\n",
              "      <th>6</th>\n",
              "      <td>7</td>\n",
              "      <td>6</td>\n",
              "      <td>2012</td>\n",
              "      <td>33</td>\n",
              "      <td>54</td>\n",
              "      <td>13</td>\n",
              "      <td>0.0</td>\n",
              "      <td>88.2</td>\n",
              "      <td>9.9</td>\n",
              "      <td>30.5</td>\n",
              "      <td>6.4</td>\n",
              "      <td>10.9</td>\n",
              "      <td>7.2</td>\n",
              "      <td>0</td>\n",
              "    </tr>\n",
              "    <tr>\n",
              "      <th>7</th>\n",
              "      <td>8</td>\n",
              "      <td>6</td>\n",
              "      <td>2012</td>\n",
              "      <td>30</td>\n",
              "      <td>73</td>\n",
              "      <td>15</td>\n",
              "      <td>0.0</td>\n",
              "      <td>86.6</td>\n",
              "      <td>12.1</td>\n",
              "      <td>38.3</td>\n",
              "      <td>5.6</td>\n",
              "      <td>13.5</td>\n",
              "      <td>7.1</td>\n",
              "      <td>0</td>\n",
              "    </tr>\n",
              "    <tr>\n",
              "      <th>8</th>\n",
              "      <td>9</td>\n",
              "      <td>6</td>\n",
              "      <td>2012</td>\n",
              "      <td>25</td>\n",
              "      <td>88</td>\n",
              "      <td>13</td>\n",
              "      <td>0.2</td>\n",
              "      <td>52.9</td>\n",
              "      <td>7.9</td>\n",
              "      <td>38.8</td>\n",
              "      <td>0.4</td>\n",
              "      <td>10.5</td>\n",
              "      <td>0.3</td>\n",
              "      <td>1</td>\n",
              "    </tr>\n",
              "    <tr>\n",
              "      <th>9</th>\n",
              "      <td>10</td>\n",
              "      <td>6</td>\n",
              "      <td>2012</td>\n",
              "      <td>28</td>\n",
              "      <td>79</td>\n",
              "      <td>12</td>\n",
              "      <td>0.0</td>\n",
              "      <td>73.2</td>\n",
              "      <td>9.5</td>\n",
              "      <td>46.3</td>\n",
              "      <td>1.3</td>\n",
              "      <td>12.6</td>\n",
              "      <td>0.9</td>\n",
              "      <td>1</td>\n",
              "    </tr>\n",
              "  </tbody>\n",
              "</table>\n",
              "</div>\n",
              "      <button class=\"colab-df-convert\" onclick=\"convertToInteractive('df-b8745ec5-2481-4151-9dfe-356439460357')\"\n",
              "              title=\"Convert this dataframe to an interactive table.\"\n",
              "              style=\"display:none;\">\n",
              "        \n",
              "  <svg xmlns=\"http://www.w3.org/2000/svg\" height=\"24px\"viewBox=\"0 0 24 24\"\n",
              "       width=\"24px\">\n",
              "    <path d=\"M0 0h24v24H0V0z\" fill=\"none\"/>\n",
              "    <path d=\"M18.56 5.44l.94 2.06.94-2.06 2.06-.94-2.06-.94-.94-2.06-.94 2.06-2.06.94zm-11 1L8.5 8.5l.94-2.06 2.06-.94-2.06-.94L8.5 2.5l-.94 2.06-2.06.94zm10 10l.94 2.06.94-2.06 2.06-.94-2.06-.94-.94-2.06-.94 2.06-2.06.94z\"/><path d=\"M17.41 7.96l-1.37-1.37c-.4-.4-.92-.59-1.43-.59-.52 0-1.04.2-1.43.59L10.3 9.45l-7.72 7.72c-.78.78-.78 2.05 0 2.83L4 21.41c.39.39.9.59 1.41.59.51 0 1.02-.2 1.41-.59l7.78-7.78 2.81-2.81c.8-.78.8-2.07 0-2.86zM5.41 20L4 18.59l7.72-7.72 1.47 1.35L5.41 20z\"/>\n",
              "  </svg>\n",
              "      </button>\n",
              "      \n",
              "  <style>\n",
              "    .colab-df-container {\n",
              "      display:flex;\n",
              "      flex-wrap:wrap;\n",
              "      gap: 12px;\n",
              "    }\n",
              "\n",
              "    .colab-df-convert {\n",
              "      background-color: #E8F0FE;\n",
              "      border: none;\n",
              "      border-radius: 50%;\n",
              "      cursor: pointer;\n",
              "      display: none;\n",
              "      fill: #1967D2;\n",
              "      height: 32px;\n",
              "      padding: 0 0 0 0;\n",
              "      width: 32px;\n",
              "    }\n",
              "\n",
              "    .colab-df-convert:hover {\n",
              "      background-color: #E2EBFA;\n",
              "      box-shadow: 0px 1px 2px rgba(60, 64, 67, 0.3), 0px 1px 3px 1px rgba(60, 64, 67, 0.15);\n",
              "      fill: #174EA6;\n",
              "    }\n",
              "\n",
              "    [theme=dark] .colab-df-convert {\n",
              "      background-color: #3B4455;\n",
              "      fill: #D2E3FC;\n",
              "    }\n",
              "\n",
              "    [theme=dark] .colab-df-convert:hover {\n",
              "      background-color: #434B5C;\n",
              "      box-shadow: 0px 1px 3px 1px rgba(0, 0, 0, 0.15);\n",
              "      filter: drop-shadow(0px 1px 2px rgba(0, 0, 0, 0.3));\n",
              "      fill: #FFFFFF;\n",
              "    }\n",
              "  </style>\n",
              "\n",
              "      <script>\n",
              "        const buttonEl =\n",
              "          document.querySelector('#df-b8745ec5-2481-4151-9dfe-356439460357 button.colab-df-convert');\n",
              "        buttonEl.style.display =\n",
              "          google.colab.kernel.accessAllowed ? 'block' : 'none';\n",
              "\n",
              "        async function convertToInteractive(key) {\n",
              "          const element = document.querySelector('#df-b8745ec5-2481-4151-9dfe-356439460357');\n",
              "          const dataTable =\n",
              "            await google.colab.kernel.invokeFunction('convertToInteractive',\n",
              "                                                     [key], {});\n",
              "          if (!dataTable) return;\n",
              "\n",
              "          const docLinkHtml = 'Like what you see? Visit the ' +\n",
              "            '<a target=\"_blank\" href=https://colab.research.google.com/notebooks/data_table.ipynb>data table notebook</a>'\n",
              "            + ' to learn more about interactive tables.';\n",
              "          element.innerHTML = '';\n",
              "          dataTable['output_type'] = 'display_data';\n",
              "          await google.colab.output.renderOutput(dataTable, element);\n",
              "          const docLink = document.createElement('div');\n",
              "          docLink.innerHTML = docLinkHtml;\n",
              "          element.appendChild(docLink);\n",
              "        }\n",
              "      </script>\n",
              "    </div>\n",
              "  </div>\n",
              "  "
            ]
          },
          "metadata": {},
          "execution_count": 72
        }
      ]
    },
    {
      "cell_type": "code",
      "source": [
        "df.isnull().sum()"
      ],
      "metadata": {
        "colab": {
          "base_uri": "https://localhost:8080/"
        },
        "id": "ZMEwegiTDN1J",
        "outputId": "67a7c711-8545-4829-d696-33bb8fd2742d"
      },
      "execution_count": 73,
      "outputs": [
        {
          "output_type": "execute_result",
          "data": {
            "text/plain": [
              "day            0\n",
              "month          0\n",
              "year           0\n",
              "Temperature    0\n",
              "RH             0\n",
              "Ws             0\n",
              "Rain           0\n",
              "FFMC           0\n",
              "DMC            0\n",
              "DC             0\n",
              "ISI            0\n",
              "BUI            0\n",
              "FWI            0\n",
              "Classes        0\n",
              "dtype: int64"
            ]
          },
          "metadata": {},
          "execution_count": 73
        }
      ]
    },
    {
      "cell_type": "code",
      "source": [
        "df.drop(columns = [\"year\"],axis=1,inplace = True)"
      ],
      "metadata": {
        "id": "Di0XDuxyDulV"
      },
      "execution_count": 74,
      "outputs": []
    },
    {
      "cell_type": "code",
      "source": [
        "df.head()"
      ],
      "metadata": {
        "colab": {
          "base_uri": "https://localhost:8080/",
          "height": 206
        },
        "id": "kYMn8UjnD_5s",
        "outputId": "666fa1f9-6447-49fb-d1a3-634c223a6b7d"
      },
      "execution_count": 75,
      "outputs": [
        {
          "output_type": "execute_result",
          "data": {
            "text/plain": [
              "   day  month  Temperature  RH  Ws  Rain  FFMC  DMC    DC  ISI  BUI  FWI  \\\n",
              "0    1      6           29  57  18   0.0  65.7  3.4   7.6  1.3  3.4  0.5   \n",
              "1    2      6           29  61  13   1.3  64.4  4.1   7.6  1.0  3.9  0.4   \n",
              "2    3      6           26  82  22  13.1  47.1  2.5   7.1  0.3  2.7  0.1   \n",
              "3    4      6           25  89  13   2.5  28.6  1.3   6.9  0.0  1.7  0.0   \n",
              "4    5      6           27  77  16   0.0  64.8  3.0  14.2  1.2  3.9  0.5   \n",
              "\n",
              "   Classes  \n",
              "0        1  \n",
              "1        1  \n",
              "2        1  \n",
              "3        1  \n",
              "4        1  "
            ],
            "text/html": [
              "\n",
              "  <div id=\"df-79bcbb55-b74a-410d-a7f5-1f18bdf4738b\">\n",
              "    <div class=\"colab-df-container\">\n",
              "      <div>\n",
              "<style scoped>\n",
              "    .dataframe tbody tr th:only-of-type {\n",
              "        vertical-align: middle;\n",
              "    }\n",
              "\n",
              "    .dataframe tbody tr th {\n",
              "        vertical-align: top;\n",
              "    }\n",
              "\n",
              "    .dataframe thead th {\n",
              "        text-align: right;\n",
              "    }\n",
              "</style>\n",
              "<table border=\"1\" class=\"dataframe\">\n",
              "  <thead>\n",
              "    <tr style=\"text-align: right;\">\n",
              "      <th></th>\n",
              "      <th>day</th>\n",
              "      <th>month</th>\n",
              "      <th>Temperature</th>\n",
              "      <th>RH</th>\n",
              "      <th>Ws</th>\n",
              "      <th>Rain</th>\n",
              "      <th>FFMC</th>\n",
              "      <th>DMC</th>\n",
              "      <th>DC</th>\n",
              "      <th>ISI</th>\n",
              "      <th>BUI</th>\n",
              "      <th>FWI</th>\n",
              "      <th>Classes</th>\n",
              "    </tr>\n",
              "  </thead>\n",
              "  <tbody>\n",
              "    <tr>\n",
              "      <th>0</th>\n",
              "      <td>1</td>\n",
              "      <td>6</td>\n",
              "      <td>29</td>\n",
              "      <td>57</td>\n",
              "      <td>18</td>\n",
              "      <td>0.0</td>\n",
              "      <td>65.7</td>\n",
              "      <td>3.4</td>\n",
              "      <td>7.6</td>\n",
              "      <td>1.3</td>\n",
              "      <td>3.4</td>\n",
              "      <td>0.5</td>\n",
              "      <td>1</td>\n",
              "    </tr>\n",
              "    <tr>\n",
              "      <th>1</th>\n",
              "      <td>2</td>\n",
              "      <td>6</td>\n",
              "      <td>29</td>\n",
              "      <td>61</td>\n",
              "      <td>13</td>\n",
              "      <td>1.3</td>\n",
              "      <td>64.4</td>\n",
              "      <td>4.1</td>\n",
              "      <td>7.6</td>\n",
              "      <td>1.0</td>\n",
              "      <td>3.9</td>\n",
              "      <td>0.4</td>\n",
              "      <td>1</td>\n",
              "    </tr>\n",
              "    <tr>\n",
              "      <th>2</th>\n",
              "      <td>3</td>\n",
              "      <td>6</td>\n",
              "      <td>26</td>\n",
              "      <td>82</td>\n",
              "      <td>22</td>\n",
              "      <td>13.1</td>\n",
              "      <td>47.1</td>\n",
              "      <td>2.5</td>\n",
              "      <td>7.1</td>\n",
              "      <td>0.3</td>\n",
              "      <td>2.7</td>\n",
              "      <td>0.1</td>\n",
              "      <td>1</td>\n",
              "    </tr>\n",
              "    <tr>\n",
              "      <th>3</th>\n",
              "      <td>4</td>\n",
              "      <td>6</td>\n",
              "      <td>25</td>\n",
              "      <td>89</td>\n",
              "      <td>13</td>\n",
              "      <td>2.5</td>\n",
              "      <td>28.6</td>\n",
              "      <td>1.3</td>\n",
              "      <td>6.9</td>\n",
              "      <td>0.0</td>\n",
              "      <td>1.7</td>\n",
              "      <td>0.0</td>\n",
              "      <td>1</td>\n",
              "    </tr>\n",
              "    <tr>\n",
              "      <th>4</th>\n",
              "      <td>5</td>\n",
              "      <td>6</td>\n",
              "      <td>27</td>\n",
              "      <td>77</td>\n",
              "      <td>16</td>\n",
              "      <td>0.0</td>\n",
              "      <td>64.8</td>\n",
              "      <td>3.0</td>\n",
              "      <td>14.2</td>\n",
              "      <td>1.2</td>\n",
              "      <td>3.9</td>\n",
              "      <td>0.5</td>\n",
              "      <td>1</td>\n",
              "    </tr>\n",
              "  </tbody>\n",
              "</table>\n",
              "</div>\n",
              "      <button class=\"colab-df-convert\" onclick=\"convertToInteractive('df-79bcbb55-b74a-410d-a7f5-1f18bdf4738b')\"\n",
              "              title=\"Convert this dataframe to an interactive table.\"\n",
              "              style=\"display:none;\">\n",
              "        \n",
              "  <svg xmlns=\"http://www.w3.org/2000/svg\" height=\"24px\"viewBox=\"0 0 24 24\"\n",
              "       width=\"24px\">\n",
              "    <path d=\"M0 0h24v24H0V0z\" fill=\"none\"/>\n",
              "    <path d=\"M18.56 5.44l.94 2.06.94-2.06 2.06-.94-2.06-.94-.94-2.06-.94 2.06-2.06.94zm-11 1L8.5 8.5l.94-2.06 2.06-.94-2.06-.94L8.5 2.5l-.94 2.06-2.06.94zm10 10l.94 2.06.94-2.06 2.06-.94-2.06-.94-.94-2.06-.94 2.06-2.06.94z\"/><path d=\"M17.41 7.96l-1.37-1.37c-.4-.4-.92-.59-1.43-.59-.52 0-1.04.2-1.43.59L10.3 9.45l-7.72 7.72c-.78.78-.78 2.05 0 2.83L4 21.41c.39.39.9.59 1.41.59.51 0 1.02-.2 1.41-.59l7.78-7.78 2.81-2.81c.8-.78.8-2.07 0-2.86zM5.41 20L4 18.59l7.72-7.72 1.47 1.35L5.41 20z\"/>\n",
              "  </svg>\n",
              "      </button>\n",
              "      \n",
              "  <style>\n",
              "    .colab-df-container {\n",
              "      display:flex;\n",
              "      flex-wrap:wrap;\n",
              "      gap: 12px;\n",
              "    }\n",
              "\n",
              "    .colab-df-convert {\n",
              "      background-color: #E8F0FE;\n",
              "      border: none;\n",
              "      border-radius: 50%;\n",
              "      cursor: pointer;\n",
              "      display: none;\n",
              "      fill: #1967D2;\n",
              "      height: 32px;\n",
              "      padding: 0 0 0 0;\n",
              "      width: 32px;\n",
              "    }\n",
              "\n",
              "    .colab-df-convert:hover {\n",
              "      background-color: #E2EBFA;\n",
              "      box-shadow: 0px 1px 2px rgba(60, 64, 67, 0.3), 0px 1px 3px 1px rgba(60, 64, 67, 0.15);\n",
              "      fill: #174EA6;\n",
              "    }\n",
              "\n",
              "    [theme=dark] .colab-df-convert {\n",
              "      background-color: #3B4455;\n",
              "      fill: #D2E3FC;\n",
              "    }\n",
              "\n",
              "    [theme=dark] .colab-df-convert:hover {\n",
              "      background-color: #434B5C;\n",
              "      box-shadow: 0px 1px 3px 1px rgba(0, 0, 0, 0.15);\n",
              "      filter: drop-shadow(0px 1px 2px rgba(0, 0, 0, 0.3));\n",
              "      fill: #FFFFFF;\n",
              "    }\n",
              "  </style>\n",
              "\n",
              "      <script>\n",
              "        const buttonEl =\n",
              "          document.querySelector('#df-79bcbb55-b74a-410d-a7f5-1f18bdf4738b button.colab-df-convert');\n",
              "        buttonEl.style.display =\n",
              "          google.colab.kernel.accessAllowed ? 'block' : 'none';\n",
              "\n",
              "        async function convertToInteractive(key) {\n",
              "          const element = document.querySelector('#df-79bcbb55-b74a-410d-a7f5-1f18bdf4738b');\n",
              "          const dataTable =\n",
              "            await google.colab.kernel.invokeFunction('convertToInteractive',\n",
              "                                                     [key], {});\n",
              "          if (!dataTable) return;\n",
              "\n",
              "          const docLinkHtml = 'Like what you see? Visit the ' +\n",
              "            '<a target=\"_blank\" href=https://colab.research.google.com/notebooks/data_table.ipynb>data table notebook</a>'\n",
              "            + ' to learn more about interactive tables.';\n",
              "          element.innerHTML = '';\n",
              "          dataTable['output_type'] = 'display_data';\n",
              "          await google.colab.output.renderOutput(dataTable, element);\n",
              "          const docLink = document.createElement('div');\n",
              "          docLink.innerHTML = docLinkHtml;\n",
              "          element.appendChild(docLink);\n",
              "        }\n",
              "      </script>\n",
              "    </div>\n",
              "  </div>\n",
              "  "
            ]
          },
          "metadata": {},
          "execution_count": 75
        }
      ]
    },
    {
      "cell_type": "markdown",
      "source": [
        "**Split Independent and Dependent Feature**"
      ],
      "metadata": {
        "id": "ZR39O15IKUXF"
      }
    },
    {
      "cell_type": "code",
      "source": [
        "X = df.drop(columns = [\"Classes\"],axis = 1)\n",
        "y = df[\"Classes\"]"
      ],
      "metadata": {
        "id": "HqOmpvFTJ7zl"
      },
      "execution_count": 76,
      "outputs": []
    },
    {
      "cell_type": "code",
      "source": [
        "X.head()"
      ],
      "metadata": {
        "colab": {
          "base_uri": "https://localhost:8080/",
          "height": 206
        },
        "id": "fYwPyuhmKQ1L",
        "outputId": "83aced9c-ef71-412f-a27c-70b5cf485e5b"
      },
      "execution_count": 77,
      "outputs": [
        {
          "output_type": "execute_result",
          "data": {
            "text/plain": [
              "   day  month  Temperature  RH  Ws  Rain  FFMC  DMC    DC  ISI  BUI  FWI\n",
              "0    1      6           29  57  18   0.0  65.7  3.4   7.6  1.3  3.4  0.5\n",
              "1    2      6           29  61  13   1.3  64.4  4.1   7.6  1.0  3.9  0.4\n",
              "2    3      6           26  82  22  13.1  47.1  2.5   7.1  0.3  2.7  0.1\n",
              "3    4      6           25  89  13   2.5  28.6  1.3   6.9  0.0  1.7  0.0\n",
              "4    5      6           27  77  16   0.0  64.8  3.0  14.2  1.2  3.9  0.5"
            ],
            "text/html": [
              "\n",
              "  <div id=\"df-9320ffce-cfb5-4c07-8dad-3f6c8f8b5e24\">\n",
              "    <div class=\"colab-df-container\">\n",
              "      <div>\n",
              "<style scoped>\n",
              "    .dataframe tbody tr th:only-of-type {\n",
              "        vertical-align: middle;\n",
              "    }\n",
              "\n",
              "    .dataframe tbody tr th {\n",
              "        vertical-align: top;\n",
              "    }\n",
              "\n",
              "    .dataframe thead th {\n",
              "        text-align: right;\n",
              "    }\n",
              "</style>\n",
              "<table border=\"1\" class=\"dataframe\">\n",
              "  <thead>\n",
              "    <tr style=\"text-align: right;\">\n",
              "      <th></th>\n",
              "      <th>day</th>\n",
              "      <th>month</th>\n",
              "      <th>Temperature</th>\n",
              "      <th>RH</th>\n",
              "      <th>Ws</th>\n",
              "      <th>Rain</th>\n",
              "      <th>FFMC</th>\n",
              "      <th>DMC</th>\n",
              "      <th>DC</th>\n",
              "      <th>ISI</th>\n",
              "      <th>BUI</th>\n",
              "      <th>FWI</th>\n",
              "    </tr>\n",
              "  </thead>\n",
              "  <tbody>\n",
              "    <tr>\n",
              "      <th>0</th>\n",
              "      <td>1</td>\n",
              "      <td>6</td>\n",
              "      <td>29</td>\n",
              "      <td>57</td>\n",
              "      <td>18</td>\n",
              "      <td>0.0</td>\n",
              "      <td>65.7</td>\n",
              "      <td>3.4</td>\n",
              "      <td>7.6</td>\n",
              "      <td>1.3</td>\n",
              "      <td>3.4</td>\n",
              "      <td>0.5</td>\n",
              "    </tr>\n",
              "    <tr>\n",
              "      <th>1</th>\n",
              "      <td>2</td>\n",
              "      <td>6</td>\n",
              "      <td>29</td>\n",
              "      <td>61</td>\n",
              "      <td>13</td>\n",
              "      <td>1.3</td>\n",
              "      <td>64.4</td>\n",
              "      <td>4.1</td>\n",
              "      <td>7.6</td>\n",
              "      <td>1.0</td>\n",
              "      <td>3.9</td>\n",
              "      <td>0.4</td>\n",
              "    </tr>\n",
              "    <tr>\n",
              "      <th>2</th>\n",
              "      <td>3</td>\n",
              "      <td>6</td>\n",
              "      <td>26</td>\n",
              "      <td>82</td>\n",
              "      <td>22</td>\n",
              "      <td>13.1</td>\n",
              "      <td>47.1</td>\n",
              "      <td>2.5</td>\n",
              "      <td>7.1</td>\n",
              "      <td>0.3</td>\n",
              "      <td>2.7</td>\n",
              "      <td>0.1</td>\n",
              "    </tr>\n",
              "    <tr>\n",
              "      <th>3</th>\n",
              "      <td>4</td>\n",
              "      <td>6</td>\n",
              "      <td>25</td>\n",
              "      <td>89</td>\n",
              "      <td>13</td>\n",
              "      <td>2.5</td>\n",
              "      <td>28.6</td>\n",
              "      <td>1.3</td>\n",
              "      <td>6.9</td>\n",
              "      <td>0.0</td>\n",
              "      <td>1.7</td>\n",
              "      <td>0.0</td>\n",
              "    </tr>\n",
              "    <tr>\n",
              "      <th>4</th>\n",
              "      <td>5</td>\n",
              "      <td>6</td>\n",
              "      <td>27</td>\n",
              "      <td>77</td>\n",
              "      <td>16</td>\n",
              "      <td>0.0</td>\n",
              "      <td>64.8</td>\n",
              "      <td>3.0</td>\n",
              "      <td>14.2</td>\n",
              "      <td>1.2</td>\n",
              "      <td>3.9</td>\n",
              "      <td>0.5</td>\n",
              "    </tr>\n",
              "  </tbody>\n",
              "</table>\n",
              "</div>\n",
              "      <button class=\"colab-df-convert\" onclick=\"convertToInteractive('df-9320ffce-cfb5-4c07-8dad-3f6c8f8b5e24')\"\n",
              "              title=\"Convert this dataframe to an interactive table.\"\n",
              "              style=\"display:none;\">\n",
              "        \n",
              "  <svg xmlns=\"http://www.w3.org/2000/svg\" height=\"24px\"viewBox=\"0 0 24 24\"\n",
              "       width=\"24px\">\n",
              "    <path d=\"M0 0h24v24H0V0z\" fill=\"none\"/>\n",
              "    <path d=\"M18.56 5.44l.94 2.06.94-2.06 2.06-.94-2.06-.94-.94-2.06-.94 2.06-2.06.94zm-11 1L8.5 8.5l.94-2.06 2.06-.94-2.06-.94L8.5 2.5l-.94 2.06-2.06.94zm10 10l.94 2.06.94-2.06 2.06-.94-2.06-.94-.94-2.06-.94 2.06-2.06.94z\"/><path d=\"M17.41 7.96l-1.37-1.37c-.4-.4-.92-.59-1.43-.59-.52 0-1.04.2-1.43.59L10.3 9.45l-7.72 7.72c-.78.78-.78 2.05 0 2.83L4 21.41c.39.39.9.59 1.41.59.51 0 1.02-.2 1.41-.59l7.78-7.78 2.81-2.81c.8-.78.8-2.07 0-2.86zM5.41 20L4 18.59l7.72-7.72 1.47 1.35L5.41 20z\"/>\n",
              "  </svg>\n",
              "      </button>\n",
              "      \n",
              "  <style>\n",
              "    .colab-df-container {\n",
              "      display:flex;\n",
              "      flex-wrap:wrap;\n",
              "      gap: 12px;\n",
              "    }\n",
              "\n",
              "    .colab-df-convert {\n",
              "      background-color: #E8F0FE;\n",
              "      border: none;\n",
              "      border-radius: 50%;\n",
              "      cursor: pointer;\n",
              "      display: none;\n",
              "      fill: #1967D2;\n",
              "      height: 32px;\n",
              "      padding: 0 0 0 0;\n",
              "      width: 32px;\n",
              "    }\n",
              "\n",
              "    .colab-df-convert:hover {\n",
              "      background-color: #E2EBFA;\n",
              "      box-shadow: 0px 1px 2px rgba(60, 64, 67, 0.3), 0px 1px 3px 1px rgba(60, 64, 67, 0.15);\n",
              "      fill: #174EA6;\n",
              "    }\n",
              "\n",
              "    [theme=dark] .colab-df-convert {\n",
              "      background-color: #3B4455;\n",
              "      fill: #D2E3FC;\n",
              "    }\n",
              "\n",
              "    [theme=dark] .colab-df-convert:hover {\n",
              "      background-color: #434B5C;\n",
              "      box-shadow: 0px 1px 3px 1px rgba(0, 0, 0, 0.15);\n",
              "      filter: drop-shadow(0px 1px 2px rgba(0, 0, 0, 0.3));\n",
              "      fill: #FFFFFF;\n",
              "    }\n",
              "  </style>\n",
              "\n",
              "      <script>\n",
              "        const buttonEl =\n",
              "          document.querySelector('#df-9320ffce-cfb5-4c07-8dad-3f6c8f8b5e24 button.colab-df-convert');\n",
              "        buttonEl.style.display =\n",
              "          google.colab.kernel.accessAllowed ? 'block' : 'none';\n",
              "\n",
              "        async function convertToInteractive(key) {\n",
              "          const element = document.querySelector('#df-9320ffce-cfb5-4c07-8dad-3f6c8f8b5e24');\n",
              "          const dataTable =\n",
              "            await google.colab.kernel.invokeFunction('convertToInteractive',\n",
              "                                                     [key], {});\n",
              "          if (!dataTable) return;\n",
              "\n",
              "          const docLinkHtml = 'Like what you see? Visit the ' +\n",
              "            '<a target=\"_blank\" href=https://colab.research.google.com/notebooks/data_table.ipynb>data table notebook</a>'\n",
              "            + ' to learn more about interactive tables.';\n",
              "          element.innerHTML = '';\n",
              "          dataTable['output_type'] = 'display_data';\n",
              "          await google.colab.output.renderOutput(dataTable, element);\n",
              "          const docLink = document.createElement('div');\n",
              "          docLink.innerHTML = docLinkHtml;\n",
              "          element.appendChild(docLink);\n",
              "        }\n",
              "      </script>\n",
              "    </div>\n",
              "  </div>\n",
              "  "
            ]
          },
          "metadata": {},
          "execution_count": 77
        }
      ]
    },
    {
      "cell_type": "code",
      "source": [
        "y.head()"
      ],
      "metadata": {
        "colab": {
          "base_uri": "https://localhost:8080/"
        },
        "id": "npJqXd6uKSP-",
        "outputId": "f3743a43-ea8f-4b84-bfec-1cd6eaa06dfb"
      },
      "execution_count": 78,
      "outputs": [
        {
          "output_type": "execute_result",
          "data": {
            "text/plain": [
              "0    1\n",
              "1    1\n",
              "2    1\n",
              "3    1\n",
              "4    1\n",
              "Name: Classes, dtype: int64"
            ]
          },
          "metadata": {},
          "execution_count": 78
        }
      ]
    },
    {
      "cell_type": "code",
      "source": [
        "scaler = StandardScaler()\n",
        "X_Scaled = scaler.fit_transform(X)"
      ],
      "metadata": {
        "id": "hYGucdOyKS-e"
      },
      "execution_count": 86,
      "outputs": []
    },
    {
      "cell_type": "code",
      "source": [
        "X_Scaled"
      ],
      "metadata": {
        "colab": {
          "base_uri": "https://localhost:8080/"
        },
        "id": "XB35PBmQKx0e",
        "outputId": "24ad7e67-f8bd-4d59-8950-9de99e891dfd"
      },
      "execution_count": 87,
      "outputs": [
        {
          "output_type": "execute_result",
          "data": {
            "text/plain": [
              "array([[-1.67279579, -1.35016751, -0.87065469, ..., -0.83035573,\n",
              "        -0.93601155, -0.88015863],\n",
              "       [-1.55947285, -1.35016751, -0.87065469, ..., -0.90272026,\n",
              "        -0.90079808, -0.8936262 ],\n",
              "       [-1.44614991, -1.35016751, -1.69925426, ..., -1.07157084,\n",
              "        -0.98531039, -0.93402893],\n",
              "       ...,\n",
              "       [ 1.38692352,  1.34646842, -1.42305441, ..., -1.04744933,\n",
              "        -0.93601155, -0.92056135],\n",
              "       [ 1.50024646,  1.34646842, -2.25165398, ..., -0.73386968,\n",
              "        -0.81628577, -0.85322348],\n",
              "       [ 1.6135694 ,  1.34646842, -2.25165398, ..., -0.85447724,\n",
              "        -0.83741385, -0.88015863]])"
            ]
          },
          "metadata": {},
          "execution_count": 87
        }
      ]
    },
    {
      "cell_type": "code",
      "source": [
        "variables = X_Scaled\n",
        "\n",
        "# we create a new data frame which will include all the VIFs\n",
        "# note that each variable has its own variance inflation factor as this measure is variable specific (not model specific)\n",
        "# we do not include categorical values for mulitcollinearity as they do not provide much information as numerical ones do\n",
        "vif = pd.DataFrame()\n",
        "\n",
        "# here we make use of the variance_inflation_factor, which will basically output the respective VIFs \n",
        "vif[\"VIF\"] = [variance_inflation_factor(variables, i) for i in range(variables.shape[1])]\n",
        "# Finally, I like to include names so it is easier to explore the result\n",
        "vif[\"Features\"] = X.columns"
      ],
      "metadata": {
        "id": "TrykuaELLCLA"
      },
      "execution_count": 88,
      "outputs": []
    },
    {
      "cell_type": "code",
      "source": [
        "vif"
      ],
      "metadata": {
        "colab": {
          "base_uri": "https://localhost:8080/",
          "height": 425
        },
        "id": "gn8XBHtRLRiX",
        "outputId": "9c996523-93d9-4dfa-ab3b-0abd76dea6d3"
      },
      "execution_count": 89,
      "outputs": [
        {
          "output_type": "execute_result",
          "data": {
            "text/plain": [
              "           VIF     Features\n",
              "0     1.487120          day\n",
              "1     1.088510        month\n",
              "2     2.415204  Temperature\n",
              "3     2.764923           RH\n",
              "4     1.312931           Ws\n",
              "5     1.551373         Rain\n",
              "6     4.120286         FFMC\n",
              "7    76.480443          DMC\n",
              "8    25.363045           DC\n",
              "9    23.122783          ISI\n",
              "10  171.616713          BUI\n",
              "11   40.471391          FWI"
            ],
            "text/html": [
              "\n",
              "  <div id=\"df-0a4eda8a-b5ec-4521-bfe3-78ea54a8392b\">\n",
              "    <div class=\"colab-df-container\">\n",
              "      <div>\n",
              "<style scoped>\n",
              "    .dataframe tbody tr th:only-of-type {\n",
              "        vertical-align: middle;\n",
              "    }\n",
              "\n",
              "    .dataframe tbody tr th {\n",
              "        vertical-align: top;\n",
              "    }\n",
              "\n",
              "    .dataframe thead th {\n",
              "        text-align: right;\n",
              "    }\n",
              "</style>\n",
              "<table border=\"1\" class=\"dataframe\">\n",
              "  <thead>\n",
              "    <tr style=\"text-align: right;\">\n",
              "      <th></th>\n",
              "      <th>VIF</th>\n",
              "      <th>Features</th>\n",
              "    </tr>\n",
              "  </thead>\n",
              "  <tbody>\n",
              "    <tr>\n",
              "      <th>0</th>\n",
              "      <td>1.487120</td>\n",
              "      <td>day</td>\n",
              "    </tr>\n",
              "    <tr>\n",
              "      <th>1</th>\n",
              "      <td>1.088510</td>\n",
              "      <td>month</td>\n",
              "    </tr>\n",
              "    <tr>\n",
              "      <th>2</th>\n",
              "      <td>2.415204</td>\n",
              "      <td>Temperature</td>\n",
              "    </tr>\n",
              "    <tr>\n",
              "      <th>3</th>\n",
              "      <td>2.764923</td>\n",
              "      <td>RH</td>\n",
              "    </tr>\n",
              "    <tr>\n",
              "      <th>4</th>\n",
              "      <td>1.312931</td>\n",
              "      <td>Ws</td>\n",
              "    </tr>\n",
              "    <tr>\n",
              "      <th>5</th>\n",
              "      <td>1.551373</td>\n",
              "      <td>Rain</td>\n",
              "    </tr>\n",
              "    <tr>\n",
              "      <th>6</th>\n",
              "      <td>4.120286</td>\n",
              "      <td>FFMC</td>\n",
              "    </tr>\n",
              "    <tr>\n",
              "      <th>7</th>\n",
              "      <td>76.480443</td>\n",
              "      <td>DMC</td>\n",
              "    </tr>\n",
              "    <tr>\n",
              "      <th>8</th>\n",
              "      <td>25.363045</td>\n",
              "      <td>DC</td>\n",
              "    </tr>\n",
              "    <tr>\n",
              "      <th>9</th>\n",
              "      <td>23.122783</td>\n",
              "      <td>ISI</td>\n",
              "    </tr>\n",
              "    <tr>\n",
              "      <th>10</th>\n",
              "      <td>171.616713</td>\n",
              "      <td>BUI</td>\n",
              "    </tr>\n",
              "    <tr>\n",
              "      <th>11</th>\n",
              "      <td>40.471391</td>\n",
              "      <td>FWI</td>\n",
              "    </tr>\n",
              "  </tbody>\n",
              "</table>\n",
              "</div>\n",
              "      <button class=\"colab-df-convert\" onclick=\"convertToInteractive('df-0a4eda8a-b5ec-4521-bfe3-78ea54a8392b')\"\n",
              "              title=\"Convert this dataframe to an interactive table.\"\n",
              "              style=\"display:none;\">\n",
              "        \n",
              "  <svg xmlns=\"http://www.w3.org/2000/svg\" height=\"24px\"viewBox=\"0 0 24 24\"\n",
              "       width=\"24px\">\n",
              "    <path d=\"M0 0h24v24H0V0z\" fill=\"none\"/>\n",
              "    <path d=\"M18.56 5.44l.94 2.06.94-2.06 2.06-.94-2.06-.94-.94-2.06-.94 2.06-2.06.94zm-11 1L8.5 8.5l.94-2.06 2.06-.94-2.06-.94L8.5 2.5l-.94 2.06-2.06.94zm10 10l.94 2.06.94-2.06 2.06-.94-2.06-.94-.94-2.06-.94 2.06-2.06.94z\"/><path d=\"M17.41 7.96l-1.37-1.37c-.4-.4-.92-.59-1.43-.59-.52 0-1.04.2-1.43.59L10.3 9.45l-7.72 7.72c-.78.78-.78 2.05 0 2.83L4 21.41c.39.39.9.59 1.41.59.51 0 1.02-.2 1.41-.59l7.78-7.78 2.81-2.81c.8-.78.8-2.07 0-2.86zM5.41 20L4 18.59l7.72-7.72 1.47 1.35L5.41 20z\"/>\n",
              "  </svg>\n",
              "      </button>\n",
              "      \n",
              "  <style>\n",
              "    .colab-df-container {\n",
              "      display:flex;\n",
              "      flex-wrap:wrap;\n",
              "      gap: 12px;\n",
              "    }\n",
              "\n",
              "    .colab-df-convert {\n",
              "      background-color: #E8F0FE;\n",
              "      border: none;\n",
              "      border-radius: 50%;\n",
              "      cursor: pointer;\n",
              "      display: none;\n",
              "      fill: #1967D2;\n",
              "      height: 32px;\n",
              "      padding: 0 0 0 0;\n",
              "      width: 32px;\n",
              "    }\n",
              "\n",
              "    .colab-df-convert:hover {\n",
              "      background-color: #E2EBFA;\n",
              "      box-shadow: 0px 1px 2px rgba(60, 64, 67, 0.3), 0px 1px 3px 1px rgba(60, 64, 67, 0.15);\n",
              "      fill: #174EA6;\n",
              "    }\n",
              "\n",
              "    [theme=dark] .colab-df-convert {\n",
              "      background-color: #3B4455;\n",
              "      fill: #D2E3FC;\n",
              "    }\n",
              "\n",
              "    [theme=dark] .colab-df-convert:hover {\n",
              "      background-color: #434B5C;\n",
              "      box-shadow: 0px 1px 3px 1px rgba(0, 0, 0, 0.15);\n",
              "      filter: drop-shadow(0px 1px 2px rgba(0, 0, 0, 0.3));\n",
              "      fill: #FFFFFF;\n",
              "    }\n",
              "  </style>\n",
              "\n",
              "      <script>\n",
              "        const buttonEl =\n",
              "          document.querySelector('#df-0a4eda8a-b5ec-4521-bfe3-78ea54a8392b button.colab-df-convert');\n",
              "        buttonEl.style.display =\n",
              "          google.colab.kernel.accessAllowed ? 'block' : 'none';\n",
              "\n",
              "        async function convertToInteractive(key) {\n",
              "          const element = document.querySelector('#df-0a4eda8a-b5ec-4521-bfe3-78ea54a8392b');\n",
              "          const dataTable =\n",
              "            await google.colab.kernel.invokeFunction('convertToInteractive',\n",
              "                                                     [key], {});\n",
              "          if (!dataTable) return;\n",
              "\n",
              "          const docLinkHtml = 'Like what you see? Visit the ' +\n",
              "            '<a target=\"_blank\" href=https://colab.research.google.com/notebooks/data_table.ipynb>data table notebook</a>'\n",
              "            + ' to learn more about interactive tables.';\n",
              "          element.innerHTML = '';\n",
              "          dataTable['output_type'] = 'display_data';\n",
              "          await google.colab.output.renderOutput(dataTable, element);\n",
              "          const docLink = document.createElement('div');\n",
              "          docLink.innerHTML = docLinkHtml;\n",
              "          element.appendChild(docLink);\n",
              "        }\n",
              "      </script>\n",
              "    </div>\n",
              "  </div>\n",
              "  "
            ]
          },
          "metadata": {},
          "execution_count": 89
        }
      ]
    },
    {
      "cell_type": "markdown",
      "source": [
        "**Split Train Data and Test Data**"
      ],
      "metadata": {
        "id": "IwuXiBMbLp54"
      }
    },
    {
      "cell_type": "code",
      "source": [
        "#split the data into training and testing\n",
        "\n",
        "X_train,X_test,y_train,y_test = train_test_split(X_Scaled,y,test_size=0.2,random_state = 10)"
      ],
      "metadata": {
        "id": "oqLl_OV1LSgy"
      },
      "execution_count": 90,
      "outputs": []
    },
    {
      "cell_type": "code",
      "source": [
        "print(\"Shape of X Train: \",X_train.shape)\n",
        "print(\"Shape of X Test: \",X_test.shape)\n",
        "print(\"Shape of y Train: \",y_train.shape)\n",
        "print(\"Shape of y Test: \",y_test.shape)\n",
        "     "
      ],
      "metadata": {
        "colab": {
          "base_uri": "https://localhost:8080/"
        },
        "id": "BzmuzodqLbVo",
        "outputId": "ec6eeaa4-d8c6-4d78-c789-e44948bc04ff"
      },
      "execution_count": 91,
      "outputs": [
        {
          "output_type": "stream",
          "name": "stdout",
          "text": [
            "Shape of X Train:  (194, 12)\n",
            "Shape of X Test:  (49, 12)\n",
            "Shape of y Train:  (194,)\n",
            "Shape of y Test:  (49,)\n"
          ]
        }
      ]
    },
    {
      "cell_type": "markdown",
      "source": [
        "**Model Building**"
      ],
      "metadata": {
        "id": "GWUdPvD7Lu3f"
      }
    },
    {
      "cell_type": "code",
      "source": [
        "def ML_model(model):\n",
        "  #model = LogisticRegression()\n",
        "  model.fit(X_train,y_train)\n",
        "\n",
        "  y_pred = model.predict(X_test)\n",
        "# print(y_pred)\n",
        "\n",
        "# Accuracy,F1_Score, Precision_Score,Recall_Score\n",
        "  print(\"Confusion Matrix :\\n \",(confusion_matrix(y_test,y_pred)))\n",
        "  print()\n",
        "  print(\"Accuracy_Score: \", round(accuracy_score(y_test,y_pred)*100,3),\"%\")\n",
        "  print()\n",
        "  print(\"F1 Score: \", (f1_score(y_test,y_pred)))\n",
        "  print(\"Precision Score: \", (precision_score(y_test,y_pred)))\n",
        "  print(\"Recall Score :\", (recall_score(y_test,y_pred)))\n",
        "  #print(\"AUC Score :\", roc_auc_score(y_test,y_pred))\n",
        "  print(\"\\n\")\n",
        "#Entire Report of the Model\n",
        "  print(\"Entire Report of the Model: \\n\", (classification_report(y_test,y_pred)))\n",
        "  plt.show()"
      ],
      "metadata": {
        "id": "6Utc3OYyLdjz"
      },
      "execution_count": 92,
      "outputs": []
    },
    {
      "cell_type": "markdown",
      "source": [
        "**Implementing Machine Learning Algorithm**"
      ],
      "metadata": {
        "id": "lGQK6StqLxLf"
      }
    },
    {
      "cell_type": "code",
      "source": [
        "classifier = ML_model(LogisticRegression())\n",
        "classifier"
      ],
      "metadata": {
        "colab": {
          "base_uri": "https://localhost:8080/"
        },
        "id": "h29YhtK2LiMG",
        "outputId": "1dc63704-8e66-4f07-eb5a-143bd46222e2"
      },
      "execution_count": 93,
      "outputs": [
        {
          "output_type": "stream",
          "name": "stdout",
          "text": [
            "Confusion Matrix :\n",
            "  [[27  2]\n",
            " [ 0 20]]\n",
            "\n",
            "Accuracy_Score:  95.918 %\n",
            "\n",
            "F1 Score:  0.9523809523809523\n",
            "Precision Score:  0.9090909090909091\n",
            "Recall Score : 1.0\n",
            "\n",
            "\n",
            "Entire Report of the Model: \n",
            "               precision    recall  f1-score   support\n",
            "\n",
            "           0       1.00      0.93      0.96        29\n",
            "           1       0.91      1.00      0.95        20\n",
            "\n",
            "    accuracy                           0.96        49\n",
            "   macro avg       0.95      0.97      0.96        49\n",
            "weighted avg       0.96      0.96      0.96        49\n",
            "\n"
          ]
        }
      ]
    },
    {
      "cell_type": "code",
      "source": [
        "ML_model(DecisionTreeClassifier())"
      ],
      "metadata": {
        "colab": {
          "base_uri": "https://localhost:8080/"
        },
        "id": "Y23aCR4qLkGE",
        "outputId": "58f03035-fe68-44c7-a6d0-39c64342dcc4"
      },
      "execution_count": 94,
      "outputs": [
        {
          "output_type": "stream",
          "name": "stdout",
          "text": [
            "Confusion Matrix :\n",
            "  [[27  2]\n",
            " [ 1 19]]\n",
            "\n",
            "Accuracy_Score:  93.878 %\n",
            "\n",
            "F1 Score:  0.9268292682926829\n",
            "Precision Score:  0.9047619047619048\n",
            "Recall Score : 0.95\n",
            "\n",
            "\n",
            "Entire Report of the Model: \n",
            "               precision    recall  f1-score   support\n",
            "\n",
            "           0       0.96      0.93      0.95        29\n",
            "           1       0.90      0.95      0.93        20\n",
            "\n",
            "    accuracy                           0.94        49\n",
            "   macro avg       0.93      0.94      0.94        49\n",
            "weighted avg       0.94      0.94      0.94        49\n",
            "\n"
          ]
        }
      ]
    },
    {
      "cell_type": "code",
      "source": [
        "ML_model(RandomForestClassifier())"
      ],
      "metadata": {
        "colab": {
          "base_uri": "https://localhost:8080/"
        },
        "id": "Mw2jXdiWNdQk",
        "outputId": "8396ca18-e319-4e3a-fda9-88c1ea63420b"
      },
      "execution_count": 95,
      "outputs": [
        {
          "output_type": "stream",
          "name": "stdout",
          "text": [
            "Confusion Matrix :\n",
            "  [[27  2]\n",
            " [ 1 19]]\n",
            "\n",
            "Accuracy_Score:  93.878 %\n",
            "\n",
            "F1 Score:  0.9268292682926829\n",
            "Precision Score:  0.9047619047619048\n",
            "Recall Score : 0.95\n",
            "\n",
            "\n",
            "Entire Report of the Model: \n",
            "               precision    recall  f1-score   support\n",
            "\n",
            "           0       0.96      0.93      0.95        29\n",
            "           1       0.90      0.95      0.93        20\n",
            "\n",
            "    accuracy                           0.94        49\n",
            "   macro avg       0.93      0.94      0.94        49\n",
            "weighted avg       0.94      0.94      0.94        49\n",
            "\n"
          ]
        }
      ]
    },
    {
      "cell_type": "code",
      "source": [],
      "metadata": {
        "id": "cEDwHWblPXhF"
      },
      "execution_count": null,
      "outputs": []
    },
    {
      "cell_type": "markdown",
      "source": [
        "**References:**\n",
        "\n",
        "https://github.com/aarpitdubey/algerian-forest-fire-detection"
      ],
      "metadata": {
        "id": "WdkkuLFJPX4Y"
      }
    }
  ]
}